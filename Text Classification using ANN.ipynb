{
 "cells": [
  {
   "cell_type": "markdown",
   "metadata": {},
   "source": [
    "# Artificial Neural Network for Text Analytics and NLP"
   ]
  },
  {
   "cell_type": "code",
   "execution_count": 1,
   "metadata": {},
   "outputs": [],
   "source": [
    "import pandas as pd\n",
    "import numpy as np\n",
    "import matplotlib.pyplot as plt\n",
    "import seaborn as sns\n",
    "import string\n",
    "import nltk.corpus as nl\n",
    "from sklearn.feature_extraction.text import CountVectorizer\n",
    "from sklearn.feature_extraction.text import TfidfTransformer\n",
    "import tensorflow as tf\n",
    "from tensorflow import keras\n",
    "from tensorflow.keras.models import Sequential\n",
    "from tensorflow.keras.layers import Activation, Dense\n",
    "from tensorflow.keras.optimizers import Adam\n",
    "from tensorflow.keras.metrics import categorical_crossentropy\n",
    "from sklearn.model_selection import train_test_split\n",
    "from sklearn.metrics import confusion_matrix\n",
    "from sklearn.metrics import roc_auc_score\n",
    "from sklearn.metrics import roc_curve\n",
    "import itertools\n",
    "from datetime import datetime\n",
    "import matplotlib.pyplot as plt\n",
    "%matplotlib inline"
   ]
  },
  {
   "cell_type": "markdown",
   "metadata": {},
   "source": [
    "# 1. Text Analytics"
   ]
  },
  {
   "cell_type": "code",
   "execution_count": 2,
   "metadata": {},
   "outputs": [],
   "source": [
    "# Code to start the timer to see how long it takes to extract the features\n",
    "startTime = datetime.now()"
   ]
  },
  {
   "cell_type": "code",
   "execution_count": 3,
   "metadata": {},
   "outputs": [],
   "source": [
    "messages=pd.read_csv(\"sms.csv\")"
   ]
  },
  {
   "cell_type": "code",
   "execution_count": 4,
   "metadata": {},
   "outputs": [
    {
     "data": {
      "text/html": [
       "<div>\n",
       "<style scoped>\n",
       "    .dataframe tbody tr th:only-of-type {\n",
       "        vertical-align: middle;\n",
       "    }\n",
       "\n",
       "    .dataframe tbody tr th {\n",
       "        vertical-align: top;\n",
       "    }\n",
       "\n",
       "    .dataframe thead th {\n",
       "        text-align: right;\n",
       "    }\n",
       "</style>\n",
       "<table border=\"1\" class=\"dataframe\">\n",
       "  <thead>\n",
       "    <tr style=\"text-align: right;\">\n",
       "      <th></th>\n",
       "      <th>label</th>\n",
       "      <th>message</th>\n",
       "    </tr>\n",
       "  </thead>\n",
       "  <tbody>\n",
       "    <tr>\n",
       "      <th>0</th>\n",
       "      <td>ham</td>\n",
       "      <td>Go until jurong point, crazy.. Available only ...</td>\n",
       "    </tr>\n",
       "    <tr>\n",
       "      <th>1</th>\n",
       "      <td>ham</td>\n",
       "      <td>Ok lar... Joking wif u oni...</td>\n",
       "    </tr>\n",
       "    <tr>\n",
       "      <th>2</th>\n",
       "      <td>spam</td>\n",
       "      <td>Free entry in 2 a wkly comp to win FA Cup fina...</td>\n",
       "    </tr>\n",
       "    <tr>\n",
       "      <th>3</th>\n",
       "      <td>ham</td>\n",
       "      <td>U dun say so early hor... U c already then say...</td>\n",
       "    </tr>\n",
       "    <tr>\n",
       "      <th>4</th>\n",
       "      <td>ham</td>\n",
       "      <td>Nah I don't think he goes to usf, he lives aro...</td>\n",
       "    </tr>\n",
       "  </tbody>\n",
       "</table>\n",
       "</div>"
      ],
      "text/plain": [
       "  label                                            message\n",
       "0   ham  Go until jurong point, crazy.. Available only ...\n",
       "1   ham                      Ok lar... Joking wif u oni...\n",
       "2  spam  Free entry in 2 a wkly comp to win FA Cup fina...\n",
       "3   ham  U dun say so early hor... U c already then say...\n",
       "4   ham  Nah I don't think he goes to usf, he lives aro..."
      ]
     },
     "execution_count": 4,
     "metadata": {},
     "output_type": "execute_result"
    }
   ],
   "source": [
    "messages.head()"
   ]
  },
  {
   "cell_type": "code",
   "execution_count": 5,
   "metadata": {},
   "outputs": [
    {
     "name": "stdout",
     "output_type": "stream",
     "text": [
      "<class 'pandas.core.frame.DataFrame'>\n",
      "RangeIndex: 5572 entries, 0 to 5571\n",
      "Data columns (total 2 columns):\n",
      " #   Column   Non-Null Count  Dtype \n",
      "---  ------   --------------  ----- \n",
      " 0   label    5572 non-null   object\n",
      " 1   message  5572 non-null   object\n",
      "dtypes: object(2)\n",
      "memory usage: 87.2+ KB\n"
     ]
    }
   ],
   "source": [
    "messages.info()"
   ]
  },
  {
   "cell_type": "code",
   "execution_count": 6,
   "metadata": {},
   "outputs": [
    {
     "data": {
      "text/html": [
       "<div>\n",
       "<style scoped>\n",
       "    .dataframe tbody tr th:only-of-type {\n",
       "        vertical-align: middle;\n",
       "    }\n",
       "\n",
       "    .dataframe tbody tr th {\n",
       "        vertical-align: top;\n",
       "    }\n",
       "\n",
       "    .dataframe thead th {\n",
       "        text-align: right;\n",
       "    }\n",
       "</style>\n",
       "<table border=\"1\" class=\"dataframe\">\n",
       "  <thead>\n",
       "    <tr style=\"text-align: right;\">\n",
       "      <th></th>\n",
       "      <th>label</th>\n",
       "      <th>message</th>\n",
       "    </tr>\n",
       "  </thead>\n",
       "  <tbody>\n",
       "    <tr>\n",
       "      <th>count</th>\n",
       "      <td>5572</td>\n",
       "      <td>5572</td>\n",
       "    </tr>\n",
       "    <tr>\n",
       "      <th>unique</th>\n",
       "      <td>2</td>\n",
       "      <td>5169</td>\n",
       "    </tr>\n",
       "    <tr>\n",
       "      <th>top</th>\n",
       "      <td>ham</td>\n",
       "      <td>Sorry, I'll call later</td>\n",
       "    </tr>\n",
       "    <tr>\n",
       "      <th>freq</th>\n",
       "      <td>4825</td>\n",
       "      <td>30</td>\n",
       "    </tr>\n",
       "  </tbody>\n",
       "</table>\n",
       "</div>"
      ],
      "text/plain": [
       "       label                 message\n",
       "count   5572                    5572\n",
       "unique     2                    5169\n",
       "top      ham  Sorry, I'll call later\n",
       "freq    4825                      30"
      ]
     },
     "execution_count": 6,
     "metadata": {},
     "output_type": "execute_result"
    }
   ],
   "source": [
    "messages.describe()"
   ]
  },
  {
   "cell_type": "code",
   "execution_count": 7,
   "metadata": {},
   "outputs": [
    {
     "data": {
      "text/plain": [
       "\"Wait that's still not all that clear, were you not sure about me being sarcastic or that that's why x doesn't want to live with us\""
      ]
     },
     "execution_count": 7,
     "metadata": {},
     "output_type": "execute_result"
    }
   ],
   "source": [
    "messages['message'][30]"
   ]
  },
  {
   "cell_type": "code",
   "execution_count": 8,
   "metadata": {},
   "outputs": [
    {
     "data": {
      "text/html": [
       "<div>\n",
       "<style scoped>\n",
       "    .dataframe tbody tr th:only-of-type {\n",
       "        vertical-align: middle;\n",
       "    }\n",
       "\n",
       "    .dataframe tbody tr th {\n",
       "        vertical-align: top;\n",
       "    }\n",
       "\n",
       "    .dataframe thead tr th {\n",
       "        text-align: left;\n",
       "    }\n",
       "\n",
       "    .dataframe thead tr:last-of-type th {\n",
       "        text-align: right;\n",
       "    }\n",
       "</style>\n",
       "<table border=\"1\" class=\"dataframe\">\n",
       "  <thead>\n",
       "    <tr>\n",
       "      <th></th>\n",
       "      <th colspan=\"4\" halign=\"left\">message</th>\n",
       "    </tr>\n",
       "    <tr>\n",
       "      <th></th>\n",
       "      <th>count</th>\n",
       "      <th>unique</th>\n",
       "      <th>top</th>\n",
       "      <th>freq</th>\n",
       "    </tr>\n",
       "    <tr>\n",
       "      <th>label</th>\n",
       "      <th></th>\n",
       "      <th></th>\n",
       "      <th></th>\n",
       "      <th></th>\n",
       "    </tr>\n",
       "  </thead>\n",
       "  <tbody>\n",
       "    <tr>\n",
       "      <th>ham</th>\n",
       "      <td>4825</td>\n",
       "      <td>4516</td>\n",
       "      <td>Sorry, I'll call later</td>\n",
       "      <td>30</td>\n",
       "    </tr>\n",
       "    <tr>\n",
       "      <th>spam</th>\n",
       "      <td>747</td>\n",
       "      <td>653</td>\n",
       "      <td>Please call our customer service representativ...</td>\n",
       "      <td>4</td>\n",
       "    </tr>\n",
       "  </tbody>\n",
       "</table>\n",
       "</div>"
      ],
      "text/plain": [
       "      message                                                               \n",
       "        count unique                                                top freq\n",
       "label                                                                       \n",
       "ham      4825   4516                             Sorry, I'll call later   30\n",
       "spam      747    653  Please call our customer service representativ...    4"
      ]
     },
     "execution_count": 8,
     "metadata": {},
     "output_type": "execute_result"
    }
   ],
   "source": [
    "messages.groupby('label').describe()"
   ]
  },
  {
   "cell_type": "code",
   "execution_count": 9,
   "metadata": {},
   "outputs": [
    {
     "data": {
      "text/html": [
       "<div>\n",
       "<style scoped>\n",
       "    .dataframe tbody tr th:only-of-type {\n",
       "        vertical-align: middle;\n",
       "    }\n",
       "\n",
       "    .dataframe tbody tr th {\n",
       "        vertical-align: top;\n",
       "    }\n",
       "\n",
       "    .dataframe thead th {\n",
       "        text-align: right;\n",
       "    }\n",
       "</style>\n",
       "<table border=\"1\" class=\"dataframe\">\n",
       "  <thead>\n",
       "    <tr style=\"text-align: right;\">\n",
       "      <th></th>\n",
       "      <th>label</th>\n",
       "      <th>message</th>\n",
       "      <th>length</th>\n",
       "    </tr>\n",
       "  </thead>\n",
       "  <tbody>\n",
       "    <tr>\n",
       "      <th>0</th>\n",
       "      <td>ham</td>\n",
       "      <td>Go until jurong point, crazy.. Available only ...</td>\n",
       "      <td>111</td>\n",
       "    </tr>\n",
       "    <tr>\n",
       "      <th>1</th>\n",
       "      <td>ham</td>\n",
       "      <td>Ok lar... Joking wif u oni...</td>\n",
       "      <td>29</td>\n",
       "    </tr>\n",
       "    <tr>\n",
       "      <th>2</th>\n",
       "      <td>spam</td>\n",
       "      <td>Free entry in 2 a wkly comp to win FA Cup fina...</td>\n",
       "      <td>155</td>\n",
       "    </tr>\n",
       "    <tr>\n",
       "      <th>3</th>\n",
       "      <td>ham</td>\n",
       "      <td>U dun say so early hor... U c already then say...</td>\n",
       "      <td>49</td>\n",
       "    </tr>\n",
       "    <tr>\n",
       "      <th>4</th>\n",
       "      <td>ham</td>\n",
       "      <td>Nah I don't think he goes to usf, he lives aro...</td>\n",
       "      <td>61</td>\n",
       "    </tr>\n",
       "  </tbody>\n",
       "</table>\n",
       "</div>"
      ],
      "text/plain": [
       "  label                                            message  length\n",
       "0   ham  Go until jurong point, crazy.. Available only ...     111\n",
       "1   ham                      Ok lar... Joking wif u oni...      29\n",
       "2  spam  Free entry in 2 a wkly comp to win FA Cup fina...     155\n",
       "3   ham  U dun say so early hor... U c already then say...      49\n",
       "4   ham  Nah I don't think he goes to usf, he lives aro...      61"
      ]
     },
     "execution_count": 9,
     "metadata": {},
     "output_type": "execute_result"
    }
   ],
   "source": [
    "messages['length'] = messages['message'].apply(len)\n",
    "messages.head()"
   ]
  },
  {
   "cell_type": "code",
   "execution_count": 10,
   "metadata": {},
   "outputs": [
    {
     "data": {
      "text/plain": [
       "<AxesSubplot:ylabel='Frequency'>"
      ]
     },
     "execution_count": 10,
     "metadata": {},
     "output_type": "execute_result"
    },
    {
     "data": {
      "image/png": "[encoded data removed]",
      "text/plain": [
       "<Figure size 432x288 with 1 Axes>"
      ]
     },
     "metadata": {
      "needs_background": "light"
     },
     "output_type": "display_data"
    }
   ],
   "source": [
    "messages['length'].plot(bins=20, kind='hist')"
   ]
  },
  {
   "cell_type": "code",
   "execution_count": 11,
   "metadata": {},
   "outputs": [
    {
     "data": {
      "text/plain": [
       "count    5572.000000\n",
       "mean       80.489950\n",
       "std        59.942907\n",
       "min         2.000000\n",
       "25%        36.000000\n",
       "50%        62.000000\n",
       "75%       122.000000\n",
       "max       910.000000\n",
       "Name: length, dtype: float64"
      ]
     },
     "execution_count": 11,
     "metadata": {},
     "output_type": "execute_result"
    }
   ],
   "source": [
    "messages.length.describe()"
   ]
  },
  {
   "cell_type": "code",
   "execution_count": 12,
   "metadata": {},
   "outputs": [
    {
     "data": {
      "text/plain": [
       "'Ok'"
      ]
     },
     "execution_count": 12,
     "metadata": {},
     "output_type": "execute_result"
    }
   ],
   "source": [
    "messages[messages['length'] == 2]['message'].iloc[0]"
   ]
  },
  {
   "cell_type": "code",
   "execution_count": 13,
   "metadata": {},
   "outputs": [
    {
     "data": {
      "text/plain": [
       "'Hey... Why dont we just go watch x men and have lunch... Haha '"
      ]
     },
     "execution_count": 13,
     "metadata": {},
     "output_type": "execute_result"
    }
   ],
   "source": [
    "messages[messages['length'] == 62]['message'].iloc[0]"
   ]
  },
  {
   "cell_type": "code",
   "execution_count": 14,
   "metadata": {},
   "outputs": [
    {
     "data": {
      "text/plain": [
       "\"For me the love should start with attraction.i should feel that I need her every time around me.she should be the first thing which comes in my thoughts.I would start the day and end it with her.she should be there every time I dream.love will be then when my every breath has her name.my life should happen around her.my life will be named to her.I would cry for her.will give all my happiness and take all her sorrows.I will be ready to fight with anyone for her.I will be in love when I will be doing the craziest things for her.love will be when I don't have to proove anyone that my girl is the most beautiful lady on the whole planet.I will always be singing praises for her.love will be when I start up making chicken curry and end up makiing sambar.life will be the most beautiful then.will get every morning and thank god for the day because she is with me.I would like to say a lot..will tell later..\""
      ]
     },
     "execution_count": 14,
     "metadata": {},
     "output_type": "execute_result"
    }
   ],
   "source": [
    "messages[messages['length'] == 910]['message'].iloc[0]"
   ]
  },
  {
   "cell_type": "code",
   "execution_count": 15,
   "metadata": {},
   "outputs": [
    {
     "data": {
      "text/plain": [
       "array([<AxesSubplot:title={'center':'ham'}>,\n",
       "       <AxesSubplot:title={'center':'spam'}>], dtype=object)"
      ]
     },
     "execution_count": 15,
     "metadata": {},
     "output_type": "execute_result"
    },
    {
     "data": {
      "image/png": "[encoded data removed]",
      "text/plain": [
       "<Figure size 864x288 with 2 Axes>"
      ]
     },
     "metadata": {
      "needs_background": "light"
     },
     "output_type": "display_data"
    }
   ],
   "source": [
    "messages.hist(column='length', by='label', bins=50,figsize=(12,4))"
   ]
  },
  {
   "cell_type": "markdown",
   "metadata": {},
   "source": [
    "# 2. Text Pre-processing"
   ]
  },
  {
   "cell_type": "code",
   "execution_count": 16,
   "metadata": {},
   "outputs": [],
   "source": [
    "def text_process(mess):\n",
    "    \"\"\"\n",
    "    Takes in a string of text, then performs the following:\n",
    "    1. Remove all punctuation\n",
    "    2. Remove all stopwords\n",
    "    3. Returns a list of the cleaned text\n",
    "    \"\"\"\n",
    "    # Check characters to see if they are in punctuation\n",
    "    nopunc = [char for char in mess if char not in string.punctuation]\n",
    "\n",
    "    # Join the characters again to form the string.\n",
    "    nopunc = ''.join(nopunc)\n",
    "    \n",
    "    # Now just remove any stopwords\n",
    "    return [word for word in nopunc.split() if word.lower() not in nl.stopwords.words('english')]"
   ]
  },
  {
   "cell_type": "code",
   "execution_count": 17,
   "metadata": {},
   "outputs": [
    {
     "data": {
      "text/plain": [
       "0    [Go, jurong, point, crazy, Available, bugis, n...\n",
       "1                       [Ok, lar, Joking, wif, u, oni]\n",
       "2    [Free, entry, 2, wkly, comp, win, FA, Cup, fin...\n",
       "3        [U, dun, say, early, hor, U, c, already, say]\n",
       "4    [Nah, dont, think, goes, usf, lives, around, t...\n",
       "Name: message, dtype: object"
      ]
     },
     "execution_count": 17,
     "metadata": {},
     "output_type": "execute_result"
    }
   ],
   "source": [
    "# Check to make sure its working\n",
    "messages['message'].head(5).apply(text_process)"
   ]
  },
  {
   "cell_type": "code",
   "execution_count": 18,
   "metadata": {},
   "outputs": [
    {
     "data": {
      "text/html": [
       "<div>\n",
       "<style scoped>\n",
       "    .dataframe tbody tr th:only-of-type {\n",
       "        vertical-align: middle;\n",
       "    }\n",
       "\n",
       "    .dataframe tbody tr th {\n",
       "        vertical-align: top;\n",
       "    }\n",
       "\n",
       "    .dataframe thead th {\n",
       "        text-align: right;\n",
       "    }\n",
       "</style>\n",
       "<table border=\"1\" class=\"dataframe\">\n",
       "  <thead>\n",
       "    <tr style=\"text-align: right;\">\n",
       "      <th></th>\n",
       "      <th>label</th>\n",
       "      <th>message</th>\n",
       "      <th>length</th>\n",
       "    </tr>\n",
       "  </thead>\n",
       "  <tbody>\n",
       "    <tr>\n",
       "      <th>0</th>\n",
       "      <td>ham</td>\n",
       "      <td>Go until jurong point, crazy.. Available only ...</td>\n",
       "      <td>111</td>\n",
       "    </tr>\n",
       "    <tr>\n",
       "      <th>1</th>\n",
       "      <td>ham</td>\n",
       "      <td>Ok lar... Joking wif u oni...</td>\n",
       "      <td>29</td>\n",
       "    </tr>\n",
       "    <tr>\n",
       "      <th>2</th>\n",
       "      <td>spam</td>\n",
       "      <td>Free entry in 2 a wkly comp to win FA Cup fina...</td>\n",
       "      <td>155</td>\n",
       "    </tr>\n",
       "    <tr>\n",
       "      <th>3</th>\n",
       "      <td>ham</td>\n",
       "      <td>U dun say so early hor... U c already then say...</td>\n",
       "      <td>49</td>\n",
       "    </tr>\n",
       "    <tr>\n",
       "      <th>4</th>\n",
       "      <td>ham</td>\n",
       "      <td>Nah I don't think he goes to usf, he lives aro...</td>\n",
       "      <td>61</td>\n",
       "    </tr>\n",
       "  </tbody>\n",
       "</table>\n",
       "</div>"
      ],
      "text/plain": [
       "  label                                            message  length\n",
       "0   ham  Go until jurong point, crazy.. Available only ...     111\n",
       "1   ham                      Ok lar... Joking wif u oni...      29\n",
       "2  spam  Free entry in 2 a wkly comp to win FA Cup fina...     155\n",
       "3   ham  U dun say so early hor... U c already then say...      49\n",
       "4   ham  Nah I don't think he goes to usf, he lives aro...      61"
      ]
     },
     "execution_count": 18,
     "metadata": {},
     "output_type": "execute_result"
    }
   ],
   "source": [
    "# Show original dataframe\n",
    "messages.head()"
   ]
  },
  {
   "cell_type": "markdown",
   "metadata": {},
   "source": [
    "# 3. Vectorization"
   ]
  },
  {
   "cell_type": "code",
   "execution_count": 19,
   "metadata": {},
   "outputs": [
    {
     "name": "stdout",
     "output_type": "stream",
     "text": [
      "11425\n"
     ]
    }
   ],
   "source": [
    "# Might take awhile...\n",
    "bow_transformer = CountVectorizer(analyzer=text_process).fit(messages['message'])\n",
    "\n",
    "# Print total number of vocab words\n",
    "print(len(bow_transformer.vocabulary_))"
   ]
  },
  {
   "cell_type": "code",
   "execution_count": 20,
   "metadata": {},
   "outputs": [
    {
     "name": "stdout",
     "output_type": "stream",
     "text": [
      "U dun say so early hor... U c already then say...\n"
     ]
    }
   ],
   "source": [
    "message4 = messages['message'][3]\n",
    "print(message4)"
   ]
  },
  {
   "cell_type": "code",
   "execution_count": 21,
   "metadata": {},
   "outputs": [
    {
     "name": "stdout",
     "output_type": "stream",
     "text": [
      "  (0, 4068)\t2\n",
      "  (0, 4629)\t1\n",
      "  (0, 5261)\t1\n",
      "  (0, 6204)\t1\n",
      "  (0, 6222)\t1\n",
      "  (0, 7186)\t1\n",
      "  (0, 9554)\t2\n",
      "(1, 11425)\n"
     ]
    }
   ],
   "source": [
    "bow4 = bow_transformer.transform([message4])\n",
    "print(bow4)\n",
    "print(bow4.shape)"
   ]
  },
  {
   "cell_type": "code",
   "execution_count": 22,
   "metadata": {},
   "outputs": [
    {
     "data": {
      "text/plain": [
       "<1x11425 sparse matrix of type '<class 'numpy.int64'>'\n",
       "\twith 7 stored elements in Compressed Sparse Row format>"
      ]
     },
     "execution_count": 22,
     "metadata": {},
     "output_type": "execute_result"
    }
   ],
   "source": [
    "bow4"
   ]
  },
  {
   "cell_type": "code",
   "execution_count": 23,
   "metadata": {},
   "outputs": [
    {
     "data": {
      "text/plain": [
       "(array([[1., 0., 0., ..., 0., 0., 0.],\n",
       "        [1., 0., 0., ..., 0., 0., 0.],\n",
       "        [1., 0., 0., ..., 0., 0., 0.],\n",
       "        ...,\n",
       "        [1., 0., 0., ..., 0., 0., 0.],\n",
       "        [1., 0., 0., ..., 0., 0., 0.],\n",
       "        [1., 0., 0., ..., 0., 0., 0.]]),\n",
       " array([0. , 0.2, 0.4, 0.6, 0.8, 1. , 1.2, 1.4, 1.6, 1.8, 2. ]),\n",
       " <a list of 11425 BarContainer objects>)"
      ]
     },
     "execution_count": 23,
     "metadata": {},
     "output_type": "execute_result"
    },
    {
     "data": {
      "image/png": "[encoded data removed]",
      "text/plain": [
       "<Figure size 432x288 with 1 Axes>"
      ]
     },
     "metadata": {
      "needs_background": "light"
     },
     "output_type": "display_data"
    }
   ],
   "source": [
    "plt.hist(bow4.todense())"
   ]
  },
  {
   "cell_type": "code",
   "execution_count": 24,
   "metadata": {},
   "outputs": [
    {
     "data": {
      "text/plain": [
       "array([[0, 0, 0, ..., 0, 0, 0]], dtype=int64)"
      ]
     },
     "execution_count": 24,
     "metadata": {},
     "output_type": "execute_result"
    }
   ],
   "source": [
    "bow4.toarray()"
   ]
  },
  {
   "cell_type": "code",
   "execution_count": 25,
   "metadata": {},
   "outputs": [
    {
     "data": {
      "text/plain": [
       "2"
      ]
     },
     "execution_count": 25,
     "metadata": {},
     "output_type": "execute_result"
    }
   ],
   "source": [
    "bow4.toarray().max()"
   ]
  },
  {
   "cell_type": "code",
   "execution_count": 26,
   "metadata": {},
   "outputs": [
    {
     "data": {
      "text/plain": [
       "array([0, 0, 0, ..., 0, 0, 0], dtype=int64)"
      ]
     },
     "execution_count": 26,
     "metadata": {},
     "output_type": "execute_result"
    }
   ],
   "source": [
    "b4 = bow4.toarray()[0]\n",
    "b4"
   ]
  },
  {
   "cell_type": "code",
   "execution_count": 27,
   "metadata": {},
   "outputs": [
    {
     "data": {
      "text/plain": [
       "(array([4068, 4629, 5261, 6204, 6222, 7186, 9554], dtype=int64),)"
      ]
     },
     "execution_count": 27,
     "metadata": {},
     "output_type": "execute_result"
    }
   ],
   "source": [
    "np.where(b4 > 0)"
   ]
  },
  {
   "cell_type": "code",
   "execution_count": 28,
   "metadata": {},
   "outputs": [
    {
     "data": {
      "text/plain": [
       "array([2, 1, 1, 1, 1, 1, 2], dtype=int64)"
      ]
     },
     "execution_count": 28,
     "metadata": {},
     "output_type": "execute_result"
    }
   ],
   "source": [
    "b4 = b4[np.where(b4 > 0)]\n",
    "b4"
   ]
  },
  {
   "cell_type": "code",
   "execution_count": 29,
   "metadata": {},
   "outputs": [
    {
     "data": {
      "text/plain": [
       "(array([5., 0., 0., 0., 0., 0., 0., 0., 0., 2.]),\n",
       " array([1. , 1.1, 1.2, 1.3, 1.4, 1.5, 1.6, 1.7, 1.8, 1.9, 2. ]),\n",
       " <BarContainer object of 10 artists>)"
      ]
     },
     "execution_count": 29,
     "metadata": {},
     "output_type": "execute_result"
    },
    {
     "data": {
      "image/png": "[encoded data removed]",
      "text/plain": [
       "<Figure size 432x288 with 1 Axes>"
      ]
     },
     "metadata": {
      "needs_background": "light"
     },
     "output_type": "display_data"
    }
   ],
   "source": [
    "plt.hist(b4)"
   ]
  },
  {
   "cell_type": "code",
   "execution_count": 30,
   "metadata": {},
   "outputs": [
    {
     "data": {
      "text/html": [
       "<div>\n",
       "<style scoped>\n",
       "    .dataframe tbody tr th:only-of-type {\n",
       "        vertical-align: middle;\n",
       "    }\n",
       "\n",
       "    .dataframe tbody tr th {\n",
       "        vertical-align: top;\n",
       "    }\n",
       "\n",
       "    .dataframe thead th {\n",
       "        text-align: right;\n",
       "    }\n",
       "</style>\n",
       "<table border=\"1\" class=\"dataframe\">\n",
       "  <thead>\n",
       "    <tr style=\"text-align: right;\">\n",
       "      <th></th>\n",
       "      <th>label</th>\n",
       "      <th>message</th>\n",
       "      <th>length</th>\n",
       "    </tr>\n",
       "  </thead>\n",
       "  <tbody>\n",
       "    <tr>\n",
       "      <th>0</th>\n",
       "      <td>ham</td>\n",
       "      <td>Go until jurong point, crazy.. Available only ...</td>\n",
       "      <td>111</td>\n",
       "    </tr>\n",
       "    <tr>\n",
       "      <th>1</th>\n",
       "      <td>ham</td>\n",
       "      <td>Ok lar... Joking wif u oni...</td>\n",
       "      <td>29</td>\n",
       "    </tr>\n",
       "    <tr>\n",
       "      <th>2</th>\n",
       "      <td>spam</td>\n",
       "      <td>Free entry in 2 a wkly comp to win FA Cup fina...</td>\n",
       "      <td>155</td>\n",
       "    </tr>\n",
       "    <tr>\n",
       "      <th>3</th>\n",
       "      <td>ham</td>\n",
       "      <td>U dun say so early hor... U c already then say...</td>\n",
       "      <td>49</td>\n",
       "    </tr>\n",
       "    <tr>\n",
       "      <th>4</th>\n",
       "      <td>ham</td>\n",
       "      <td>Nah I don't think he goes to usf, he lives aro...</td>\n",
       "      <td>61</td>\n",
       "    </tr>\n",
       "  </tbody>\n",
       "</table>\n",
       "</div>"
      ],
      "text/plain": [
       "  label                                            message  length\n",
       "0   ham  Go until jurong point, crazy.. Available only ...     111\n",
       "1   ham                      Ok lar... Joking wif u oni...      29\n",
       "2  spam  Free entry in 2 a wkly comp to win FA Cup fina...     155\n",
       "3   ham  U dun say so early hor... U c already then say...      49\n",
       "4   ham  Nah I don't think he goes to usf, he lives aro...      61"
      ]
     },
     "execution_count": 30,
     "metadata": {},
     "output_type": "execute_result"
    }
   ],
   "source": [
    "messages.head()"
   ]
  },
  {
   "cell_type": "code",
   "execution_count": 31,
   "metadata": {},
   "outputs": [],
   "source": [
    "messages22 = messages.copy()"
   ]
  },
  {
   "cell_type": "code",
   "execution_count": 32,
   "metadata": {},
   "outputs": [],
   "source": [
    "messages22['bow'] = messages['message'].apply(lambda x: bow_transformer.transform([x]))"
   ]
  },
  {
   "cell_type": "code",
   "execution_count": 33,
   "metadata": {},
   "outputs": [
    {
     "data": {
      "text/plain": [
       "<1x11425 sparse matrix of type '<class 'numpy.int64'>'\n",
       "\twith 7 stored elements in Compressed Sparse Row format>"
      ]
     },
     "execution_count": 33,
     "metadata": {},
     "output_type": "execute_result"
    }
   ],
   "source": [
    "messages22['bow'][3]"
   ]
  },
  {
   "cell_type": "code",
   "execution_count": 34,
   "metadata": {},
   "outputs": [
    {
     "data": {
      "text/plain": [
       "2"
      ]
     },
     "execution_count": 34,
     "metadata": {},
     "output_type": "execute_result"
    }
   ],
   "source": [
    "max(messages22['bow'][3].toarray()[0])"
   ]
  },
  {
   "cell_type": "code",
   "execution_count": 35,
   "metadata": {},
   "outputs": [
    {
     "data": {
      "text/html": [
       "<div>\n",
       "<style scoped>\n",
       "    .dataframe tbody tr th:only-of-type {\n",
       "        vertical-align: middle;\n",
       "    }\n",
       "\n",
       "    .dataframe tbody tr th {\n",
       "        vertical-align: top;\n",
       "    }\n",
       "\n",
       "    .dataframe thead th {\n",
       "        text-align: right;\n",
       "    }\n",
       "</style>\n",
       "<table border=\"1\" class=\"dataframe\">\n",
       "  <thead>\n",
       "    <tr style=\"text-align: right;\">\n",
       "      <th></th>\n",
       "      <th>label</th>\n",
       "      <th>message</th>\n",
       "      <th>length</th>\n",
       "      <th>bow</th>\n",
       "      <th>max_occur</th>\n",
       "    </tr>\n",
       "  </thead>\n",
       "  <tbody>\n",
       "    <tr>\n",
       "      <th>0</th>\n",
       "      <td>ham</td>\n",
       "      <td>Go until jurong point, crazy.. Available only ...</td>\n",
       "      <td>111</td>\n",
       "      <td>(0, 1110)\\t1\\n  (0, 1483)\\t1\\n  (0, 2060)\\t1...</td>\n",
       "      <td>1</td>\n",
       "    </tr>\n",
       "    <tr>\n",
       "      <th>1</th>\n",
       "      <td>ham</td>\n",
       "      <td>Ok lar... Joking wif u oni...</td>\n",
       "      <td>29</td>\n",
       "      <td>(0, 2451)\\t1\\n  (0, 3064)\\t1\\n  (0, 7701)\\t1...</td>\n",
       "      <td>1</td>\n",
       "    </tr>\n",
       "    <tr>\n",
       "      <th>2</th>\n",
       "      <td>spam</td>\n",
       "      <td>Free entry in 2 a wkly comp to win FA Cup fina...</td>\n",
       "      <td>155</td>\n",
       "      <td>(0, 73)\\t1\\n  (0, 423)\\t1\\n  (0, 430)\\t1\\n  ...</td>\n",
       "      <td>2</td>\n",
       "    </tr>\n",
       "    <tr>\n",
       "      <th>3</th>\n",
       "      <td>ham</td>\n",
       "      <td>U dun say so early hor... U c already then say...</td>\n",
       "      <td>49</td>\n",
       "      <td>(0, 4068)\\t2\\n  (0, 4629)\\t1\\n  (0, 5261)\\t1...</td>\n",
       "      <td>2</td>\n",
       "    </tr>\n",
       "    <tr>\n",
       "      <th>4</th>\n",
       "      <td>ham</td>\n",
       "      <td>Nah I don't think he goes to usf, he lives aro...</td>\n",
       "      <td>61</td>\n",
       "      <td>(0, 2948)\\t1\\n  (0, 4777)\\t1\\n  (0, 6123)\\t1...</td>\n",
       "      <td>1</td>\n",
       "    </tr>\n",
       "  </tbody>\n",
       "</table>\n",
       "</div>"
      ],
      "text/plain": [
       "  label                                            message  length  \\\n",
       "0   ham  Go until jurong point, crazy.. Available only ...     111   \n",
       "1   ham                      Ok lar... Joking wif u oni...      29   \n",
       "2  spam  Free entry in 2 a wkly comp to win FA Cup fina...     155   \n",
       "3   ham  U dun say so early hor... U c already then say...      49   \n",
       "4   ham  Nah I don't think he goes to usf, he lives aro...      61   \n",
       "\n",
       "                                                 bow  max_occur  \n",
       "0    (0, 1110)\\t1\\n  (0, 1483)\\t1\\n  (0, 2060)\\t1...          1  \n",
       "1    (0, 2451)\\t1\\n  (0, 3064)\\t1\\n  (0, 7701)\\t1...          1  \n",
       "2    (0, 73)\\t1\\n  (0, 423)\\t1\\n  (0, 430)\\t1\\n  ...          2  \n",
       "3    (0, 4068)\\t2\\n  (0, 4629)\\t1\\n  (0, 5261)\\t1...          2  \n",
       "4    (0, 2948)\\t1\\n  (0, 4777)\\t1\\n  (0, 6123)\\t1...          1  "
      ]
     },
     "execution_count": 35,
     "metadata": {},
     "output_type": "execute_result"
    }
   ],
   "source": [
    "messages22['max_occur'] = messages22['bow'].apply(lambda x: x.max())\n",
    "messages22.head()"
   ]
  },
  {
   "cell_type": "code",
   "execution_count": 36,
   "metadata": {},
   "outputs": [
    {
     "data": {
      "text/html": [
       "<div>\n",
       "<style scoped>\n",
       "    .dataframe tbody tr th:only-of-type {\n",
       "        vertical-align: middle;\n",
       "    }\n",
       "\n",
       "    .dataframe tbody tr th {\n",
       "        vertical-align: top;\n",
       "    }\n",
       "\n",
       "    .dataframe thead th {\n",
       "        text-align: right;\n",
       "    }\n",
       "</style>\n",
       "<table border=\"1\" class=\"dataframe\">\n",
       "  <thead>\n",
       "    <tr style=\"text-align: right;\">\n",
       "      <th></th>\n",
       "      <th>label</th>\n",
       "      <th>message</th>\n",
       "      <th>length</th>\n",
       "      <th>bow</th>\n",
       "      <th>max_occur</th>\n",
       "    </tr>\n",
       "  </thead>\n",
       "  <tbody>\n",
       "    <tr>\n",
       "      <th>3881</th>\n",
       "      <td>ham</td>\n",
       "      <td>Hi juan. Im coming home on fri hey. Of course ...</td>\n",
       "      <td>159</td>\n",
       "      <td>(0, 2225)\\t1\\n  (0, 2350)\\t1\\n  (0, 2352)\\t1...</td>\n",
       "      <td>9</td>\n",
       "    </tr>\n",
       "    <tr>\n",
       "      <th>4870</th>\n",
       "      <td>ham</td>\n",
       "      <td>1. Tension face 2. Smiling face 3. Waste face ...</td>\n",
       "      <td>158</td>\n",
       "      <td>(0, 292)\\t1\\n  (0, 423)\\t1\\n  (0, 543)\\t1\\n ...</td>\n",
       "      <td>10</td>\n",
       "    </tr>\n",
       "    <tr>\n",
       "      <th>3017</th>\n",
       "      <td>ham</td>\n",
       "      <td>&amp;lt;#&amp;gt;  is fast approaching. So, Wish u a v...</td>\n",
       "      <td>461</td>\n",
       "      <td>(0, 605)\\t1\\n  (0, 1022)\\t1\\n  (0, 1164)\\t1\\...</td>\n",
       "      <td>14</td>\n",
       "    </tr>\n",
       "    <tr>\n",
       "      <th>1579</th>\n",
       "      <td>ham</td>\n",
       "      <td>How to Make a girl Happy? It's not at all diff...</td>\n",
       "      <td>611</td>\n",
       "      <td>(0, 292)\\t1\\n  (0, 423)\\t1\\n  (0, 543)\\t1\\n ...</td>\n",
       "      <td>18</td>\n",
       "    </tr>\n",
       "  </tbody>\n",
       "</table>\n",
       "</div>"
      ],
      "text/plain": [
       "     label                                            message  length  \\\n",
       "3881   ham  Hi juan. Im coming home on fri hey. Of course ...     159   \n",
       "4870   ham  1. Tension face 2. Smiling face 3. Waste face ...     158   \n",
       "3017   ham  &lt;#&gt;  is fast approaching. So, Wish u a v...     461   \n",
       "1579   ham  How to Make a girl Happy? It's not at all diff...     611   \n",
       "\n",
       "                                                    bow  max_occur  \n",
       "3881    (0, 2225)\\t1\\n  (0, 2350)\\t1\\n  (0, 2352)\\t1...          9  \n",
       "4870    (0, 292)\\t1\\n  (0, 423)\\t1\\n  (0, 543)\\t1\\n ...         10  \n",
       "3017    (0, 605)\\t1\\n  (0, 1022)\\t1\\n  (0, 1164)\\t1\\...         14  \n",
       "1579    (0, 292)\\t1\\n  (0, 423)\\t1\\n  (0, 543)\\t1\\n ...         18  "
      ]
     },
     "execution_count": 36,
     "metadata": {},
     "output_type": "execute_result"
    }
   ],
   "source": [
    "messages22.sort_values(by='max_occur').tail(4)"
   ]
  },
  {
   "cell_type": "code",
   "execution_count": 37,
   "metadata": {},
   "outputs": [],
   "source": [
    "messages_bow = bow_transformer.transform(messages['message'])"
   ]
  },
  {
   "cell_type": "code",
   "execution_count": 38,
   "metadata": {},
   "outputs": [
    {
     "name": "stdout",
     "output_type": "stream",
     "text": [
      "Shape of Sparse Matrix:  (5572, 11425)\n",
      "Amount of Non-Zero occurences:  50548\n"
     ]
    }
   ],
   "source": [
    "print('Shape of Sparse Matrix: ', messages_bow.shape)\n",
    "print('Amount of Non-Zero occurences: ', messages_bow.nnz)"
   ]
  },
  {
   "cell_type": "code",
   "execution_count": 39,
   "metadata": {},
   "outputs": [
    {
     "name": "stdout",
     "output_type": "stream",
     "text": [
      "0:04:38.049883\n"
     ]
    }
   ],
   "source": [
    "# Code to see how long it took\n",
    "print(datetime.now() - startTime)"
   ]
  },
  {
   "cell_type": "markdown",
   "metadata": {},
   "source": [
    "# 4. Data Preparation and Processing for NLP"
   ]
  },
  {
   "cell_type": "code",
   "execution_count": 40,
   "metadata": {},
   "outputs": [],
   "source": [
    "# Code to start the timer to see how long it takes to extract the features\n",
    "startTime = datetime.now()"
   ]
  },
  {
   "cell_type": "code",
   "execution_count": 41,
   "metadata": {},
   "outputs": [
    {
     "name": "stdout",
     "output_type": "stream",
     "text": [
      "11425\n"
     ]
    }
   ],
   "source": [
    "# Might take awhile...\n",
    "bow_transformer = CountVectorizer(analyzer=text_process).fit(messages['message'])\n",
    "\n",
    "# Print total number of vocab words\n",
    "print(len(bow_transformer.vocabulary_))"
   ]
  },
  {
   "cell_type": "code",
   "execution_count": 42,
   "metadata": {},
   "outputs": [
    {
     "name": "stdout",
     "output_type": "stream",
     "text": [
      "(5572, 11425)\n"
     ]
    }
   ],
   "source": [
    "bow4 = bow_transformer.transform(messages['message'])\n",
    "print(bow4.shape)"
   ]
  },
  {
   "cell_type": "code",
   "execution_count": 43,
   "metadata": {},
   "outputs": [
    {
     "data": {
      "text/plain": [
       "<5572x11425 sparse matrix of type '<class 'numpy.int64'>'\n",
       "\twith 50548 stored elements in Compressed Sparse Row format>"
      ]
     },
     "execution_count": 43,
     "metadata": {},
     "output_type": "execute_result"
    }
   ],
   "source": [
    "bow4"
   ]
  },
  {
   "cell_type": "code",
   "execution_count": 44,
   "metadata": {},
   "outputs": [],
   "source": [
    "arr = bow4.toarray()"
   ]
  },
  {
   "cell_type": "code",
   "execution_count": 45,
   "metadata": {},
   "outputs": [],
   "source": [
    "X = arr\n",
    "y = messages['label']"
   ]
  },
  {
   "cell_type": "code",
   "execution_count": 46,
   "metadata": {},
   "outputs": [],
   "source": [
    "y=np.where(y =='spam', 1, y)\n",
    "y=np.where(y =='ham', 0, y)"
   ]
  },
  {
   "cell_type": "code",
   "execution_count": 47,
   "metadata": {},
   "outputs": [],
   "source": [
    "y = y.astype('float32')"
   ]
  },
  {
   "cell_type": "code",
   "execution_count": 48,
   "metadata": {},
   "outputs": [],
   "source": [
    "X_train, X_test, y_train, y_test = train_test_split(X, y, test_size=0.33, random_state=42)"
   ]
  },
  {
   "cell_type": "code",
   "execution_count": 49,
   "metadata": {},
   "outputs": [
    {
     "name": "stdout",
     "output_type": "stream",
     "text": [
      "0:00:49.910633\n"
     ]
    }
   ],
   "source": [
    "# Code to see how long it took\n",
    "print(datetime.now() - startTime)"
   ]
  },
  {
   "cell_type": "markdown",
   "metadata": {},
   "source": [
    "# 5. Create an Artificial Neural Network for NLP"
   ]
  },
  {
   "cell_type": "code",
   "execution_count": 50,
   "metadata": {},
   "outputs": [],
   "source": [
    "model = Sequential([\n",
    "    Dense(units=16, input_shape=(11425,), activation='relu'),\n",
    "    Dense(units=32, activation='relu'),\n",
    "    Dense(units=2, activation='softmax')\n",
    "])"
   ]
  },
  {
   "cell_type": "code",
   "execution_count": 51,
   "metadata": {},
   "outputs": [
    {
     "name": "stdout",
     "output_type": "stream",
     "text": [
      "Model: \"sequential\"\n",
      "_________________________________________________________________\n",
      "Layer (type)                 Output Shape              Param #   \n",
      "=================================================================\n",
      "dense (Dense)                (None, 16)                182816    \n",
      "_________________________________________________________________\n",
      "dense_1 (Dense)              (None, 32)                544       \n",
      "_________________________________________________________________\n",
      "dense_2 (Dense)              (None, 2)                 66        \n",
      "=================================================================\n",
      "Total params: 183,426\n",
      "Trainable params: 183,426\n",
      "Non-trainable params: 0\n",
      "_________________________________________________________________\n"
     ]
    }
   ],
   "source": [
    "model.summary()"
   ]
  },
  {
   "cell_type": "markdown",
   "metadata": {},
   "source": [
    "# 6. Train an Artificial Neural Network for NLP"
   ]
  },
  {
   "cell_type": "code",
   "execution_count": 52,
   "metadata": {},
   "outputs": [],
   "source": [
    "model.compile(optimizer=Adam(learning_rate=0.0001), loss='sparse_categorical_crossentropy', metrics=['accuracy'])"
   ]
  },
  {
   "cell_type": "code",
   "execution_count": 53,
   "metadata": {},
   "outputs": [
    {
     "name": "stdout",
     "output_type": "stream",
     "text": [
      "Train on 3733 samples\n",
      "Epoch 1/30\n",
      "3733/3733 - 6s - loss: 0.6320 - accuracy: 0.8219\n",
      "Epoch 2/30\n",
      "3733/3733 - 1s - loss: 0.3992 - accuracy: 0.8848\n",
      "Epoch 3/30\n",
      "3733/3733 - 1s - loss: 0.2048 - accuracy: 0.9523\n",
      "Epoch 4/30\n",
      "3733/3733 - 1s - loss: 0.1090 - accuracy: 0.9802\n",
      "Epoch 5/30\n",
      "3733/3733 - 1s - loss: 0.0634 - accuracy: 0.9879\n",
      "Epoch 6/30\n",
      "3733/3733 - 1s - loss: 0.0402 - accuracy: 0.9922\n",
      "Epoch 7/30\n",
      "3733/3733 - 1s - loss: 0.0275 - accuracy: 0.9946\n",
      "Epoch 8/30\n",
      "3733/3733 - 1s - loss: 0.0198 - accuracy: 0.9962\n",
      "Epoch 9/30\n",
      "3733/3733 - 1s - loss: 0.0148 - accuracy: 0.9971\n",
      "Epoch 10/30\n",
      "3733/3733 - 1s - loss: 0.0114 - accuracy: 0.9973\n",
      "Epoch 11/30\n",
      "3733/3733 - 1s - loss: 0.0088 - accuracy: 0.9979\n",
      "Epoch 12/30\n",
      "3733/3733 - 1s - loss: 0.0069 - accuracy: 0.9981\n",
      "Epoch 13/30\n",
      "3733/3733 - 1s - loss: 0.0054 - accuracy: 0.9987\n",
      "Epoch 14/30\n",
      "3733/3733 - 1s - loss: 0.0043 - accuracy: 0.9992\n",
      "Epoch 15/30\n",
      "3733/3733 - 1s - loss: 0.0035 - accuracy: 0.9992\n",
      "Epoch 16/30\n",
      "3733/3733 - 1s - loss: 0.0029 - accuracy: 0.9992\n",
      "Epoch 17/30\n",
      "3733/3733 - 1s - loss: 0.0024 - accuracy: 0.9992\n",
      "Epoch 18/30\n",
      "3733/3733 - 1s - loss: 0.0020 - accuracy: 0.9992\n",
      "Epoch 19/30\n",
      "3733/3733 - 1s - loss: 0.0017 - accuracy: 0.9995\n",
      "Epoch 20/30\n",
      "3733/3733 - 1s - loss: 0.0014 - accuracy: 0.9997\n",
      "Epoch 21/30\n",
      "3733/3733 - 1s - loss: 0.0012 - accuracy: 0.9997\n",
      "Epoch 22/30\n",
      "3733/3733 - 1s - loss: 0.0010 - accuracy: 0.9997\n",
      "Epoch 23/30\n",
      "3733/3733 - 1s - loss: 9.0537e-04 - accuracy: 0.9997\n",
      "Epoch 24/30\n",
      "3733/3733 - 1s - loss: 7.8425e-04 - accuracy: 0.9997\n",
      "Epoch 25/30\n",
      "3733/3733 - 1s - loss: 6.8171e-04 - accuracy: 0.9997\n",
      "Epoch 26/30\n",
      "3733/3733 - 1s - loss: 5.9804e-04 - accuracy: 0.9997\n",
      "Epoch 27/30\n",
      "3733/3733 - 1s - loss: 5.3243e-04 - accuracy: 0.9997\n",
      "Epoch 28/30\n",
      "3733/3733 - 1s - loss: 4.7304e-04 - accuracy: 0.9997\n",
      "Epoch 29/30\n",
      "3733/3733 - 1s - loss: 4.2610e-04 - accuracy: 0.9997\n",
      "Epoch 30/30\n",
      "3733/3733 - 1s - loss: 3.8319e-04 - accuracy: 0.9997\n"
     ]
    },
    {
     "data": {
      "text/plain": [
       "<tensorflow.python.keras.callbacks.History at 0x19b9e6186c8>"
      ]
     },
     "execution_count": 53,
     "metadata": {},
     "output_type": "execute_result"
    }
   ],
   "source": [
    "model.fit(x=X_train, y=y_train, batch_size=10, epochs=30, shuffle=True, verbose=2)"
   ]
  },
  {
   "cell_type": "markdown",
   "metadata": {},
   "source": [
    "# 7. Build a Validation Set for NLP"
   ]
  },
  {
   "cell_type": "code",
   "execution_count": 54,
   "metadata": {},
   "outputs": [
    {
     "name": "stdout",
     "output_type": "stream",
     "text": [
      "Train on 3359 samples, validate on 374 samples\n",
      "Epoch 1/30\n",
      "3359/3359 - 8s - loss: 3.5970e-04 - accuracy: 0.9997 - val_loss: 2.3297e-04 - val_accuracy: 1.0000\n",
      "Epoch 2/30\n",
      "3359/3359 - 3s - loss: 3.3067e-04 - accuracy: 0.9997 - val_loss: 2.1723e-04 - val_accuracy: 1.0000\n",
      "Epoch 3/30\n",
      "3359/3359 - 3s - loss: 3.0522e-04 - accuracy: 1.0000 - val_loss: 2.0371e-04 - val_accuracy: 1.0000\n",
      "Epoch 4/30\n",
      "3359/3359 - 3s - loss: 2.8378e-04 - accuracy: 1.0000 - val_loss: 1.9170e-04 - val_accuracy: 1.0000\n",
      "Epoch 5/30\n",
      "3359/3359 - 3s - loss: 2.6410e-04 - accuracy: 1.0000 - val_loss: 1.8138e-04 - val_accuracy: 1.0000\n",
      "Epoch 6/30\n",
      "3359/3359 - 3s - loss: 2.4633e-04 - accuracy: 1.0000 - val_loss: 1.7453e-04 - val_accuracy: 1.0000\n",
      "Epoch 7/30\n",
      "3359/3359 - 4s - loss: 2.3032e-04 - accuracy: 1.0000 - val_loss: 1.6482e-04 - val_accuracy: 1.0000\n",
      "Epoch 8/30\n",
      "3359/3359 - 3s - loss: 2.1671e-04 - accuracy: 1.0000 - val_loss: 1.5787e-04 - val_accuracy: 1.0000\n",
      "Epoch 9/30\n",
      "3359/3359 - 3s - loss: 2.0412e-04 - accuracy: 1.0000 - val_loss: 1.5311e-04 - val_accuracy: 1.0000\n",
      "Epoch 10/30\n",
      "3359/3359 - 3s - loss: 1.9271e-04 - accuracy: 1.0000 - val_loss: 1.5035e-04 - val_accuracy: 1.0000\n",
      "Epoch 11/30\n",
      "3359/3359 - 3s - loss: 1.8244e-04 - accuracy: 1.0000 - val_loss: 1.4702e-04 - val_accuracy: 1.0000\n",
      "Epoch 12/30\n",
      "3359/3359 - 3s - loss: 1.7298e-04 - accuracy: 1.0000 - val_loss: 1.4414e-04 - val_accuracy: 1.0000\n",
      "Epoch 13/30\n",
      "3359/3359 - 3s - loss: 1.6387e-04 - accuracy: 1.0000 - val_loss: 1.4619e-04 - val_accuracy: 1.0000\n",
      "Epoch 14/30\n",
      "3359/3359 - 4s - loss: 1.5579e-04 - accuracy: 1.0000 - val_loss: 1.4993e-04 - val_accuracy: 1.0000\n",
      "Epoch 15/30\n",
      "3359/3359 - 3s - loss: 1.4867e-04 - accuracy: 1.0000 - val_loss: 1.5274e-04 - val_accuracy: 1.0000\n",
      "Epoch 16/30\n",
      "3359/3359 - 3s - loss: 1.4113e-04 - accuracy: 1.0000 - val_loss: 1.5581e-04 - val_accuracy: 1.0000\n",
      "Epoch 17/30\n",
      "3359/3359 - 3s - loss: 1.3391e-04 - accuracy: 1.0000 - val_loss: 1.6608e-04 - val_accuracy: 1.0000\n",
      "Epoch 18/30\n",
      "3359/3359 - 4s - loss: 1.2808e-04 - accuracy: 1.0000 - val_loss: 1.7864e-04 - val_accuracy: 1.0000\n",
      "Epoch 19/30\n",
      "3359/3359 - 3s - loss: 1.2208e-04 - accuracy: 1.0000 - val_loss: 2.0052e-04 - val_accuracy: 1.0000\n",
      "Epoch 20/30\n",
      "3359/3359 - 3s - loss: 1.1777e-04 - accuracy: 1.0000 - val_loss: 2.1070e-04 - val_accuracy: 1.0000\n",
      "Epoch 21/30\n",
      "3359/3359 - 4s - loss: 1.1117e-04 - accuracy: 1.0000 - val_loss: 2.4144e-04 - val_accuracy: 1.0000\n",
      "Epoch 22/30\n",
      "3359/3359 - 3s - loss: 1.0703e-04 - accuracy: 1.0000 - val_loss: 2.7971e-04 - val_accuracy: 1.0000\n",
      "Epoch 23/30\n",
      "3359/3359 - 3s - loss: 1.0148e-04 - accuracy: 1.0000 - val_loss: 3.1255e-04 - val_accuracy: 1.0000\n",
      "Epoch 24/30\n",
      "3359/3359 - 3s - loss: 9.6814e-05 - accuracy: 1.0000 - val_loss: 3.7499e-04 - val_accuracy: 1.0000\n",
      "Epoch 25/30\n",
      "3359/3359 - 3s - loss: 9.2400e-05 - accuracy: 1.0000 - val_loss: 4.4706e-04 - val_accuracy: 1.0000\n",
      "Epoch 26/30\n",
      "3359/3359 - 3s - loss: 8.7953e-05 - accuracy: 1.0000 - val_loss: 5.2728e-04 - val_accuracy: 1.0000\n",
      "Epoch 27/30\n",
      "3359/3359 - 4s - loss: 8.4145e-05 - accuracy: 1.0000 - val_loss: 6.4635e-04 - val_accuracy: 1.0000\n",
      "Epoch 28/30\n",
      "3359/3359 - 3s - loss: 8.1681e-05 - accuracy: 1.0000 - val_loss: 7.8664e-04 - val_accuracy: 1.0000\n",
      "Epoch 29/30\n",
      "3359/3359 - 3s - loss: 7.6808e-05 - accuracy: 1.0000 - val_loss: 9.7803e-04 - val_accuracy: 1.0000\n",
      "Epoch 30/30\n",
      "3359/3359 - 3s - loss: 7.3313e-05 - accuracy: 1.0000 - val_loss: 0.0011 - val_accuracy: 1.0000\n"
     ]
    },
    {
     "data": {
      "text/plain": [
       "<tensorflow.python.keras.callbacks.History at 0x19b9f8205c8>"
      ]
     },
     "execution_count": 54,
     "metadata": {},
     "output_type": "execute_result"
    }
   ],
   "source": [
    "model.fit(x=X_train, y=y_train, validation_split= 0.1, batch_size=10, epochs=30, shuffle=True, verbose=2)"
   ]
  },
  {
   "cell_type": "markdown",
   "metadata": {},
   "source": [
    "# 8. Neural Network Predictions for NLP"
   ]
  },
  {
   "cell_type": "code",
   "execution_count": 55,
   "metadata": {},
   "outputs": [],
   "source": [
    "predictions = model.predict(x=X_test, batch_size=10, verbose=0)"
   ]
  },
  {
   "cell_type": "code",
   "execution_count": 56,
   "metadata": {},
   "outputs": [],
   "source": [
    "rounded_predictions = np.argmax(predictions, axis=-1)"
   ]
  },
  {
   "cell_type": "code",
   "execution_count": 57,
   "metadata": {},
   "outputs": [],
   "source": [
    "y_pred=rounded_predictions"
   ]
  },
  {
   "cell_type": "markdown",
   "metadata": {},
   "source": [
    "# 9. Create a Confusion Matrix for Neural Network Predictions"
   ]
  },
  {
   "cell_type": "code",
   "execution_count": 58,
   "metadata": {},
   "outputs": [],
   "source": [
    "cm = confusion_matrix(y_true=y_test, y_pred=y_pred)"
   ]
  },
  {
   "cell_type": "code",
   "execution_count": 59,
   "metadata": {},
   "outputs": [],
   "source": [
    "def plot_confusion_matrix(cm, classes,\n",
    "                          normalize=False,\n",
    "                          title='Confusion matrix',\n",
    "                          cmap=plt.cm.Blues):\n",
    "    \"\"\"\n",
    "    This function prints and plots the confusion matrix.\n",
    "    Normalization can be applied by setting `normalize=True`.\n",
    "    \"\"\"\n",
    "    plt.imshow(cm, interpolation='nearest', cmap=cmap)\n",
    "    plt.title(title)\n",
    "    plt.colorbar()\n",
    "    tick_marks = np.arange(len(classes))\n",
    "    plt.xticks(tick_marks, classes, rotation=45)\n",
    "    plt.yticks(tick_marks, classes)\n",
    "\n",
    "    if normalize:\n",
    "        cm = cm.astype('float') / cm.sum(axis=1)[:, np.newaxis]\n",
    "        print(\"Normalized confusion matrix\")\n",
    "    else:\n",
    "        print('Confusion matrix, without normalization')\n",
    "\n",
    "    print(cm)\n",
    "\n",
    "    thresh = cm.max() / 2.\n",
    "    for i, j in itertools.product(range(cm.shape[0]), range(cm.shape[1])):\n",
    "        plt.text(j, i, cm[i, j],\n",
    "                 horizontalalignment=\"center\",\n",
    "                 color=\"white\" if cm[i, j] > thresh else \"black\")\n",
    "\n",
    "    plt.tight_layout()\n",
    "    plt.ylabel('True label')\n",
    "    plt.xlabel('Predicted label')"
   ]
  },
  {
   "cell_type": "code",
   "execution_count": 60,
   "metadata": {},
   "outputs": [
    {
     "name": "stdout",
     "output_type": "stream",
     "text": [
      "Confusion matrix, without normalization\n",
      "[[1593    0]\n",
      " [  24  222]]\n"
     ]
    },
    {
     "data": {
      "image/png": "[encoded data removed]",
      "text/plain": [
       "<Figure size 432x288 with 2 Axes>"
      ]
     },
     "metadata": {
      "needs_background": "light"
     },
     "output_type": "display_data"
    }
   ],
   "source": [
    "cm_plot_labels = ['ham', 'spam']\n",
    "plot_confusion_matrix(cm=cm, classes=cm_plot_labels, title='Confusion Matrix')"
   ]
  },
  {
   "cell_type": "code",
   "execution_count": 61,
   "metadata": {},
   "outputs": [
    {
     "name": "stdout",
     "output_type": "stream",
     "text": [
      "\u001b[1m The result is telling us that we have:  1815 correct predictions.\n",
      "\u001b[1m The result is telling us that we have:  24 incorrect predictions.\n",
      "\u001b[1m We have a total predictions of:  1839\n"
     ]
    }
   ],
   "source": [
    "print(\"\\033[1m The result is telling us that we have: \",(cm[0,0]+cm[1,1]),\"correct predictions.\")\n",
    "print(\"\\033[1m The result is telling us that we have: \",(cm[0,1]+cm[1,0]),\"incorrect predictions.\")\n",
    "print(\"\\033[1m We have a total predictions of: \",(cm.sum()))"
   ]
  },
  {
   "cell_type": "markdown",
   "metadata": {},
   "source": [
    "# 9. Create a Classification Report for Neural Network Predictions"
   ]
  },
  {
   "cell_type": "code",
   "execution_count": 62,
   "metadata": {},
   "outputs": [
    {
     "name": "stdout",
     "output_type": "stream",
     "text": [
      "              precision    recall  f1-score   support\n",
      "\n",
      "         0.0       0.99      1.00      0.99      1593\n",
      "         1.0       1.00      0.90      0.95       246\n",
      "\n",
      "    accuracy                           0.99      1839\n",
      "   macro avg       0.99      0.95      0.97      1839\n",
      "weighted avg       0.99      0.99      0.99      1839\n",
      "\n"
     ]
    }
   ],
   "source": [
    "from sklearn.metrics import classification_report\n",
    "print(classification_report(y_test, y_pred))"
   ]
  },
  {
   "cell_type": "code",
   "execution_count": 63,
   "metadata": {},
   "outputs": [
    {
     "name": "stdout",
     "output_type": "stream",
     "text": [
      "Accuracy of the Artificial Neural Network model on the test set: 98.69%\n",
      "\n",
      "Well, you got a classification rate of 98.69%\n"
     ]
    }
   ],
   "source": [
    "from sklearn import metrics\n",
    "#calculate Accuracy, how often is the classifier correct?\n",
    "print(\"Accuracy of the Artificial Neural Network model on the test set:\", \"{:.2%}\".format(metrics.accuracy_score(y_test, y_pred)))\n",
    "print(\"\\nWell, you got a classification rate of\", \"{:.2%}\".format(metrics.accuracy_score(y_test, y_pred)))"
   ]
  },
  {
   "cell_type": "code",
   "execution_count": 64,
   "metadata": {},
   "outputs": [
    {
     "name": "stdout",
     "output_type": "stream",
     "text": [
      "Precision of the Artificial Neural Network model: 100.00%\n",
      "\n",
      "Precision: Precision is about being precise, i.e., how precise our model is. In other words, we can say, when a model makes a prediction, how often it is correct. In our prediction case, when our Artificial Neural Network model predicted a message is a spam, that message is actually a spam 100.00% of the time.\n"
     ]
    }
   ],
   "source": [
    "#calculate Precision\n",
    "print(\"Precision of the Artificial Neural Network model:\", \"{:.2%}\".format(metrics.precision_score(y_test, y_pred)))\n",
    "print(\"\\nPrecision: Precision is about being precise, i.e., how precise our model is. In other words, we can say, when a model makes a prediction, how often it is correct. In our prediction case, when our Artificial Neural Network model predicted a message is a spam, that message is actually a spam\", \"{:.2%}\".format(metrics.precision_score(y_test, y_pred)), \"of the time.\")"
   ]
  },
  {
   "cell_type": "code",
   "execution_count": 65,
   "metadata": {},
   "outputs": [
    {
     "name": "stdout",
     "output_type": "stream",
     "text": [
      "Recall of the Artificial Neural Network model: 90.24%\n",
      "\n",
      "Recall: If there is a spam message in the test set, our Artificial Neural Network model can identify it 90.24% of the time.\n"
     ]
    }
   ],
   "source": [
    "#calculate Recall\n",
    "print(\"Recall of the Artificial Neural Network model:\", \"{:.2%}\".format(metrics.recall_score(y_test, y_pred)))\n",
    "print(\"\\nRecall: If there is a spam message in the test set, our Artificial Neural Network model can identify it\", \"{:.2%}\".format(metrics.recall_score(y_test, y_pred)), \"of the time.\")"
   ]
  },
  {
   "cell_type": "markdown",
   "metadata": {},
   "source": [
    "# 10. Create a ROC AUC Curve for Neural Network Predictions"
   ]
  },
  {
   "cell_type": "code",
   "execution_count": 66,
   "metadata": {},
   "outputs": [
    {
     "data": {
      "image/png": "[encoded data removed]",
      "text/plain": [
       "<Figure size 432x288 with 1 Axes>"
      ]
     },
     "metadata": {
      "needs_background": "light"
     },
     "output_type": "display_data"
    }
   ],
   "source": [
    "ann_roc_auc = roc_auc_score(y_test, model.predict(X_test)[:,1])\n",
    "fpr, tpr, thresholds = roc_curve(y_test, model.predict_proba(X_test)[:,1])\n",
    "plt.figure()\n",
    "plt.plot(fpr, tpr, label='Artificial Neural Network (area = %0.4f)' % ann_roc_auc)\n",
    "plt.plot([0, 1], [0, 1],'r--')\n",
    "plt.xlim([0.0, 1.0])\n",
    "plt.ylim([0.0, 1.05])\n",
    "plt.xlabel('False Positive Rate')\n",
    "plt.ylabel('True Positive Rate')\n",
    "plt.title('Receiver operating characteristic')\n",
    "plt.legend(loc=\"lower right\")\n",
    "plt.savefig('ANN_ROC')\n",
    "plt.show()"
   ]
  },
  {
   "cell_type": "markdown",
   "metadata": {},
   "source": [
    "# 11. Save and Load a Model with TensorFlow's Keras API"
   ]
  },
  {
   "cell_type": "markdown",
   "metadata": {},
   "source": [
    "## 1. model.save()"
   ]
  },
  {
   "cell_type": "code",
   "execution_count": 67,
   "metadata": {},
   "outputs": [],
   "source": [
    "# Checks first to see if file exists already\n",
    "# If not, the model is saved to disk.\n",
    "import os.path\n",
    "if os.path.isfile('C:\\\\Users\\\\רועי\\\\models\\\\nlp_model.h5') is False:\n",
    "    model.save('C:\\\\Users\\\\רועי\\\\models\\\\nlp_model.h5')"
   ]
  },
  {
   "cell_type": "markdown",
   "metadata": {},
   "source": [
    "This save functions saves:\n",
    "\n",
    "   * The architecture of the model allowing to re-create the moddel.\n",
    "   * The weights of the model.\n",
    "   * The training configuration (loss, optimizer).\n",
    "   * The state of the optimizer, allowing to resume training exactly where you left off."
   ]
  },
  {
   "cell_type": "code",
   "execution_count": 68,
   "metadata": {},
   "outputs": [],
   "source": [
    "from tensorflow.keras.models import load_model\n",
    "new_model = load_model('C:\\\\Users\\\\רועי\\\\models\\\\nlp_model.h5')"
   ]
  },
  {
   "cell_type": "code",
   "execution_count": 69,
   "metadata": {},
   "outputs": [
    {
     "name": "stdout",
     "output_type": "stream",
     "text": [
      "Model: \"sequential\"\n",
      "_________________________________________________________________\n",
      "Layer (type)                 Output Shape              Param #   \n",
      "=================================================================\n",
      "dense (Dense)                (None, 16)                182816    \n",
      "_________________________________________________________________\n",
      "dense_1 (Dense)              (None, 32)                544       \n",
      "_________________________________________________________________\n",
      "dense_2 (Dense)              (None, 2)                 66        \n",
      "=================================================================\n",
      "Total params: 183,426\n",
      "Trainable params: 183,426\n",
      "Non-trainable params: 0\n",
      "_________________________________________________________________\n"
     ]
    }
   ],
   "source": [
    "new_model.summary()"
   ]
  },
  {
   "cell_type": "code",
   "execution_count": 70,
   "metadata": {},
   "outputs": [
    {
     "data": {
      "text/plain": [
       "[array([[-0.00349818,  0.02331863, -0.00997902, ..., -0.02180791,\n",
       "          0.03002522,  0.01739539],\n",
       "        [ 0.02063355,  0.0143314 , -0.01060511, ...,  0.00224709,\n",
       "          0.00769261, -0.01027697],\n",
       "        [ 0.00958228,  0.03054796, -0.0135802 , ...,  0.02043218,\n",
       "          0.0145161 ,  0.01637409],\n",
       "        ...,\n",
       "        [-0.01456076, -0.0009247 ,  0.00368516, ..., -0.00460651,\n",
       "          0.03674729, -0.00349801],\n",
       "        [-0.00434685, -0.00739431,  0.01655012, ...,  0.03013261,\n",
       "         -0.00311162,  0.02436938],\n",
       "        [ 0.00267601,  0.01773748,  0.01485001, ...,  0.01531227,\n",
       "         -0.00735064,  0.00077609]], dtype=float32),\n",
       " array([0.13745245, 0.17144056, 0.13613822, 0.062147  , 0.08827011,\n",
       "        0.1646385 , 0.06005477, 0.1512127 , 0.13846332, 0.14556058,\n",
       "        0.13615246, 0.15703103, 0.033029  , 0.14697875, 0.02425121,\n",
       "        0.1880577 ], dtype=float32),\n",
       " array([[-1.18083902e-01,  1.86483040e-02, -1.81068003e-01,\n",
       "          1.05132855e-01, -3.44635919e-02,  6.09248519e-01,\n",
       "         -9.13942978e-02, -3.94571930e-01,  2.97889054e-01,\n",
       "          1.04013957e-01, -3.76248598e-01, -3.80673677e-01,\n",
       "          2.91392326e-01,  6.06612742e-01,  3.84900093e-01,\n",
       "          1.91076279e-01,  1.60682008e-01,  1.83980316e-01,\n",
       "         -2.62405664e-01,  4.55405742e-01,  5.82511090e-02,\n",
       "         -7.15452582e-02, -3.74045104e-01,  1.28431186e-01,\n",
       "         -1.64976567e-01,  4.12670851e-01, -3.56909096e-01,\n",
       "          6.53270364e-01,  3.84184927e-01,  4.20734584e-01,\n",
       "          4.66025084e-01, -4.41456109e-01],\n",
       "        [ 3.82257342e-01, -2.32648239e-01,  4.81584817e-01,\n",
       "         -1.30051509e-01, -5.03743477e-02, -1.30495593e-01,\n",
       "          3.08913708e-01,  2.15673476e-01, -1.95325077e-01,\n",
       "          2.48777657e-03,  3.85208130e-01,  6.37234271e-01,\n",
       "         -1.28708452e-01, -7.50750229e-02,  1.45503163e-01,\n",
       "          2.22707242e-01, -3.74167800e-01, -1.22278243e-01,\n",
       "          5.28288364e-01,  1.99316978e-01, -1.59612939e-01,\n",
       "          6.38798952e-01,  1.02821635e-02,  5.96296370e-01,\n",
       "          1.95117936e-01,  2.43764222e-02,  7.25308731e-02,\n",
       "         -9.34958681e-02, -3.82536128e-02,  8.27696268e-03,\n",
       "          1.04238093e-01,  5.15365720e-01],\n",
       "        [-3.14314887e-02,  3.37472737e-01, -3.48181158e-01,\n",
       "          7.04084814e-01, -3.27660263e-01,  6.19711816e-01,\n",
       "         -4.91356552e-01, -4.75146502e-01,  5.75663328e-01,\n",
       "          2.06919223e-01, -3.19903344e-01, -1.59191161e-01,\n",
       "          5.79465568e-01,  1.91074777e-02,  4.85119909e-01,\n",
       "         -9.85088274e-02,  9.79159772e-02, -4.97383550e-02,\n",
       "         -1.77450716e-01,  4.00057077e-01,  2.27421254e-01,\n",
       "         -3.70340675e-01, -1.60949335e-01, -1.30493879e-01,\n",
       "         -9.63130668e-02,  4.09807086e-01, -4.72166538e-01,\n",
       "          4.66859132e-01,  1.35742620e-01,  1.04089625e-01,\n",
       "          4.75523561e-01, -5.46947382e-02],\n",
       "        [ 3.37465078e-01,  1.41023427e-01,  5.20665407e-01,\n",
       "          8.94304737e-02, -1.18814513e-01, -3.36180419e-01,\n",
       "          1.79814454e-02,  3.56171817e-01, -4.01163310e-01,\n",
       "         -1.92964211e-01,  5.30932367e-01,  1.58998743e-01,\n",
       "         -2.58672446e-01,  1.48339987e-01, -2.90615499e-01,\n",
       "          6.57875419e-01, -1.19046373e-02, -2.67527968e-01,\n",
       "          4.01205420e-01, -4.64302093e-01,  1.88065797e-01,\n",
       "          6.22063637e-01,  5.21586835e-01,  1.78774804e-01,\n",
       "         -3.54903519e-01, -3.42361867e-01,  2.74048328e-01,\n",
       "         -2.16532856e-01, -4.08942342e-01, -2.17817292e-01,\n",
       "         -1.79885015e-01,  6.25408113e-01],\n",
       "        [ 5.98222852e-01, -8.42781216e-02,  6.92276597e-01,\n",
       "         -8.52505714e-02, -8.69426504e-02, -1.47565365e-01,\n",
       "          4.68365341e-01,  2.38190278e-01, -3.81038994e-01,\n",
       "         -2.20599845e-01,  5.42284250e-01,  4.19235885e-01,\n",
       "         -5.77465780e-02, -4.79255736e-01, -3.94599289e-02,\n",
       "          4.07308728e-01, -1.81232855e-01, -1.83286682e-01,\n",
       "          4.47859794e-01, -2.88850088e-02, -1.91565692e-01,\n",
       "          3.62888038e-01,  2.67083913e-01,  4.89144713e-01,\n",
       "         -3.41174975e-02, -3.74224693e-01,  7.23670661e-01,\n",
       "         -2.06432000e-01, -4.13926274e-01,  6.41890019e-02,\n",
       "         -4.57975447e-01,  6.82903647e-01],\n",
       "        [ 1.66948229e-01,  1.10409744e-01,  1.16947666e-01,\n",
       "          1.21938616e-01, -1.59693986e-01,  6.42382205e-01,\n",
       "         -6.73165470e-02,  2.19677031e-01,  3.20168436e-01,\n",
       "         -1.23687878e-01, -5.91177419e-02,  4.05194499e-02,\n",
       "          5.22010326e-01,  5.52274466e-01,  5.67810357e-01,\n",
       "         -5.63528426e-02,  6.28634214e-01, -1.34702921e-01,\n",
       "         -2.28195235e-01,  4.91805434e-01,  1.98786274e-01,\n",
       "         -3.42370152e-01, -1.32169843e-01,  6.64790049e-02,\n",
       "         -1.58204481e-01,  4.06998992e-01,  2.22680435e-01,\n",
       "          2.16367364e-01,  4.45119947e-01,  4.24516529e-01,\n",
       "          2.12058350e-01, -6.41427860e-02],\n",
       "        [ 5.09025276e-01, -3.14882934e-01,  5.77443361e-01,\n",
       "         -3.45660627e-01, -6.36047199e-02, -2.94990242e-01,\n",
       "          6.66378200e-01,  5.39186656e-01,  1.02436945e-01,\n",
       "          1.09357368e-02, -2.52405629e-02,  6.39319599e-01,\n",
       "         -4.11798418e-01, -2.41187856e-01, -2.34769642e-01,\n",
       "          2.56150782e-01,  9.29823741e-02,  5.91911040e-02,\n",
       "          2.39109516e-01, -4.61683124e-01, -4.56519216e-01,\n",
       "          3.98641795e-01,  2.58937359e-01,  1.64096832e-01,\n",
       "         -2.79565424e-01, -1.70585662e-02,  6.33958340e-01,\n",
       "         -1.35939196e-01, -1.77656747e-02, -3.93103033e-01,\n",
       "          4.74613383e-02,  1.01330653e-01],\n",
       "        [-3.18740219e-01,  3.71247798e-01, -1.89353228e-01,\n",
       "          3.32613170e-01,  2.35224307e-01,  5.10923564e-01,\n",
       "         -4.81799483e-01, -6.09844066e-02,  6.76723599e-01,\n",
       "         -2.86035210e-01, -3.43518049e-01, -1.84625775e-01,\n",
       "          6.79993033e-01,  5.12277365e-01,  1.34082988e-01,\n",
       "         -2.68880099e-01,  2.87565172e-01,  7.78558627e-02,\n",
       "         -1.67839617e-01,  2.64074266e-01,  5.10437191e-01,\n",
       "         -2.68463194e-01, -2.39334196e-01,  1.25240395e-02,\n",
       "          2.21077397e-01,  2.54335672e-01, -5.63972853e-02,\n",
       "          1.76377982e-01,  4.37968761e-01,  4.97252166e-01,\n",
       "          7.37630188e-01, -4.23936360e-02],\n",
       "        [ 3.51985991e-02,  3.22163343e-01, -3.09908628e-01,\n",
       "          9.91952568e-02,  9.38391015e-02,  2.25377619e-01,\n",
       "         -4.87571716e-01, -3.59246343e-01,  6.23612583e-01,\n",
       "         -3.09804678e-01, -5.39932013e-01, -4.95690525e-01,\n",
       "          6.05549037e-01,  1.17511883e-01,  4.40518498e-01,\n",
       "         -3.96493345e-01,  1.81721509e-01,  1.72800973e-01,\n",
       "         -1.22869678e-01,  4.16693687e-01,  7.16377139e-01,\n",
       "         -4.49760258e-01, -7.77761489e-02, -4.19276774e-01,\n",
       "         -3.03491317e-02,  4.99515146e-01, -4.37607646e-01,\n",
       "          7.03784645e-01,  2.50047266e-01,  4.61892158e-01,\n",
       "          1.40473664e-01, -4.85300494e-04],\n",
       "        [ 4.00367528e-02,  5.92178702e-01, -2.08823800e-01,\n",
       "          3.68871056e-02, -1.26659691e-01,  1.89477324e-01,\n",
       "         -1.10050291e-01,  3.94815356e-02,  2.85555601e-01,\n",
       "         -1.57793626e-01, -2.58319825e-01,  6.67785481e-02,\n",
       "          3.06324810e-01,  4.38237071e-01,  4.42262292e-01,\n",
       "         -3.92979980e-01,  6.08689189e-01, -6.27342239e-02,\n",
       "          1.06182601e-02,  1.02617711e-01,  5.02337933e-01,\n",
       "         -3.86339307e-01, -9.60141197e-02, -2.23025441e-01,\n",
       "         -3.13873172e-01,  2.43017226e-01,  8.68522301e-02,\n",
       "          3.88305455e-01,  6.86494708e-02,  1.27257407e-01,\n",
       "          3.62151265e-01, -2.92776942e-01],\n",
       "        [-5.18176377e-01,  2.64647216e-01, -3.97342533e-01,\n",
       "          4.02770191e-01,  2.16232359e-01,  4.75922823e-01,\n",
       "          1.10786028e-01, -2.64486432e-01,  5.54018974e-01,\n",
       "         -3.68586659e-01, -1.88274860e-01, -3.27022672e-01,\n",
       "          6.56360388e-01,  6.59656227e-01,  4.56980467e-02,\n",
       "         -3.82014900e-01,  4.73193467e-01,  1.00671992e-01,\n",
       "          5.10808527e-02,  2.57298768e-01,  1.91520408e-01,\n",
       "         -2.30099469e-01, -2.31284678e-01, -4.65049148e-01,\n",
       "         -3.32763612e-01,  2.87665755e-01, -1.71002164e-01,\n",
       "          1.09043464e-01,  5.25834858e-01,  6.46915078e-01,\n",
       "          3.56986701e-01,  3.83627079e-02],\n",
       "        [-2.66808689e-01,  5.27742684e-01, -4.23809886e-01,\n",
       "          4.34952199e-01, -3.07689607e-01,  1.95255816e-01,\n",
       "          2.27611163e-03, -3.40090543e-01,  2.07067162e-01,\n",
       "          2.21031204e-01,  1.49119601e-01, -4.62596953e-01,\n",
       "          5.68437040e-01,  7.11112380e-01,  6.50472403e-01,\n",
       "          6.34240508e-02,  1.51987359e-01, -3.58376741e-01,\n",
       "         -2.07518637e-01,  8.91864598e-02,  9.19396505e-02,\n",
       "          1.18871398e-01, -5.57039715e-02, -1.51639327e-01,\n",
       "         -5.44976145e-02,  2.89016217e-01, -4.59907979e-01,\n",
       "          6.26782238e-01,  7.43942738e-01,  1.07868023e-01,\n",
       "          5.62582970e-01, -4.61992353e-01],\n",
       "        [ 1.93376899e-01, -1.20872580e-01,  4.56932753e-01,\n",
       "         -1.77214742e-01, -3.21960717e-01, -3.89811456e-01,\n",
       "          3.99500653e-02,  9.82680470e-02,  1.21994399e-01,\n",
       "         -3.10312450e-01,  3.43527436e-01,  2.48968881e-02,\n",
       "         -3.93606246e-01,  1.41412437e-01, -2.72632927e-01,\n",
       "          3.19513351e-01, -8.52960795e-02,  2.98414767e-01,\n",
       "          5.71017444e-01, -2.37072170e-01, -2.80859899e-02,\n",
       "          5.26106060e-01,  7.28937611e-02,  1.52296096e-01,\n",
       "          2.83249915e-01, -2.23537639e-01,  6.40878022e-01,\n",
       "          1.70912579e-01,  1.19756334e-01, -4.30455327e-01,\n",
       "          1.26688451e-01,  5.94633222e-01],\n",
       "        [-3.63266736e-01,  6.31876409e-01, -9.09560174e-02,\n",
       "          6.22396171e-01,  2.99405277e-01,  2.63148934e-01,\n",
       "          1.16373301e-01,  8.84332508e-02,  2.35667884e-01,\n",
       "          6.07097521e-02,  1.25346541e-01, -3.73981923e-01,\n",
       "          5.47333658e-01,  6.87291861e-01,  3.49116683e-01,\n",
       "         -2.97738940e-01,  6.37893796e-01, -2.87671611e-02,\n",
       "          6.63419142e-02,  3.02174598e-01,  4.95813221e-01,\n",
       "         -3.87511909e-01, -2.67885238e-01, -9.42735672e-02,\n",
       "         -5.17169572e-02,  6.80383444e-01,  1.34482652e-01,\n",
       "          1.36562571e-01,  3.00156772e-01,  5.14175773e-01,\n",
       "          5.54734692e-02, -2.63391256e-01],\n",
       "        [ 3.30536589e-02,  3.90639193e-02,  5.71076453e-01,\n",
       "         -2.97438145e-01,  4.75052036e-02, -3.03099304e-01,\n",
       "          5.08886635e-01,  4.21273559e-01,  9.97701511e-02,\n",
       "         -6.33629113e-02,  2.94251088e-02,  5.74923337e-01,\n",
       "          1.49511859e-01, -4.12999779e-01, -1.65003836e-01,\n",
       "          1.35691196e-01, -3.92116487e-01, -1.52540728e-01,\n",
       "          8.90211016e-02, -2.39368051e-01, -3.98368359e-01,\n",
       "         -6.26476258e-02,  5.00856526e-02,  2.08723992e-01,\n",
       "         -1.63472116e-01,  4.27249186e-02,  2.05381423e-01,\n",
       "         -4.18780535e-01, -1.49463966e-01,  3.52529250e-02,\n",
       "         -2.01124877e-01,  1.80678889e-01],\n",
       "        [-8.54516774e-02,  5.53130209e-01,  8.49903673e-02,\n",
       "          6.09102547e-01,  4.98998258e-03,  5.48816860e-01,\n",
       "         -1.81601882e-01,  2.39470368e-03,  2.31365174e-01,\n",
       "          3.30271751e-01,  2.17924297e-01,  2.17310593e-01,\n",
       "          6.30433857e-01,  9.51094925e-02, -3.63614149e-02,\n",
       "         -1.08703308e-01,  4.00603682e-01, -6.48649260e-02,\n",
       "          6.38976246e-02,  4.49765563e-01,  4.03987825e-01,\n",
       "          3.03600520e-01,  2.28296071e-01, -3.74894142e-01,\n",
       "         -1.87336832e-01,  2.95569122e-01, -1.91708252e-01,\n",
       "          3.53864461e-01,  3.38234663e-01,  4.16869044e-01,\n",
       "          5.28274894e-01, -3.61255482e-02]], dtype=float32),\n",
       " array([ 0.11979964,  0.06189222,  0.16617961,  0.08811318, -0.03405697,\n",
       "         0.1374033 ,  0.17741449,  0.16191652,  0.1124575 , -0.00922934,\n",
       "         0.13062418,  0.19069712,  0.10729293,  0.07674704,  0.04604759,\n",
       "         0.19441319,  0.08637337, -0.0282223 ,  0.02200668,  0.09276081,\n",
       "         0.11602843,  0.18259992,  0.17393495,  0.15292321, -0.04943082,\n",
       "         0.0801661 ,  0.18755321,  0.08881517,  0.10346273,  0.06285869,\n",
       "         0.02134387,  0.1285688 ], dtype=float32),\n",
       " array([[-0.34114277,  0.67104816],\n",
       "        [ 0.75112563, -0.43029422],\n",
       "        [-0.17839114,  0.57707405],\n",
       "        [ 0.7474087 , -0.16672951],\n",
       "        [-0.309043  , -0.23830384],\n",
       "        [ 0.57780796, -0.78975725],\n",
       "        [-0.6597856 ,  0.52896434],\n",
       "        [-0.566196  ,  0.3744043 ],\n",
       "        [ 0.6355601 , -0.6281181 ],\n",
       "        [-0.18827781,  0.28585503],\n",
       "        [-0.76716083,  0.45036206],\n",
       "        [-0.3745314 ,  0.62421805],\n",
       "        [ 0.704109  , -0.43116757],\n",
       "        [ 0.56059533, -0.37213618],\n",
       "        [ 0.5632151 , -0.66366786],\n",
       "        [-0.09151956,  0.745094  ],\n",
       "        [ 0.7178877 , -0.31518605],\n",
       "        [ 0.02282991,  0.2765903 ],\n",
       "        [-0.50636435, -0.00442928],\n",
       "        [ 0.7479507 , -0.4417772 ],\n",
       "        [ 0.4427881 , -0.5522925 ],\n",
       "        [-0.49260435,  0.6952765 ],\n",
       "        [-0.74534756,  0.5907346 ],\n",
       "        [-0.6025946 ,  0.74999875],\n",
       "        [ 0.3387063 , -0.3026595 ],\n",
       "        [ 0.69562864, -0.28082883],\n",
       "        [-0.04031033,  0.7270411 ],\n",
       "        [ 0.70309913, -0.38002732],\n",
       "        [ 0.3049958 , -0.62906176],\n",
       "        [ 0.34789824, -0.5232039 ],\n",
       "        [ 0.6376763 , -0.08135053],\n",
       "        [-0.28290525,  0.612887  ]], dtype=float32),\n",
       " array([ 0.00619935, -0.00623232], dtype=float32)]"
      ]
     },
     "execution_count": 70,
     "metadata": {},
     "output_type": "execute_result"
    }
   ],
   "source": [
    "new_model.get_weights()"
   ]
  },
  {
   "cell_type": "code",
   "execution_count": 71,
   "metadata": {},
   "outputs": [
    {
     "data": {
      "text/plain": [
       "<tensorflow.python.keras.optimizer_v2.adam.Adam at 0x19ba086f048>"
      ]
     },
     "execution_count": 71,
     "metadata": {},
     "output_type": "execute_result"
    }
   ],
   "source": [
    "new_model.optimizer"
   ]
  },
  {
   "cell_type": "markdown",
   "metadata": {},
   "source": [
    "## 2. model.to_json()"
   ]
  },
  {
   "cell_type": "markdown",
   "metadata": {},
   "source": [
    "if you only need to save architecture of a model, and not its weights or its training configuration, you can see the following function to save the architecture only."
   ]
  },
  {
   "cell_type": "code",
   "execution_count": 72,
   "metadata": {},
   "outputs": [],
   "source": [
    "# save as JSON\n",
    "json_string = model.to_json()\n",
    "\n",
    "# save as YAML\n",
    "# yaml_string = model.to_yaml()"
   ]
  },
  {
   "cell_type": "code",
   "execution_count": 73,
   "metadata": {},
   "outputs": [
    {
     "data": {
      "text/plain": [
       "'{\"class_name\": \"Sequential\", \"config\": {\"name\": \"sequential\", \"layers\": [{\"class_name\": \"Dense\", \"config\": {\"name\": \"dense\", \"trainable\": true, \"batch_input_shape\": [null, 11425], \"dtype\": \"float32\", \"units\": 16, \"activation\": \"relu\", \"use_bias\": true, \"kernel_initializer\": {\"class_name\": \"GlorotUniform\", \"config\": {\"seed\": null}}, \"bias_initializer\": {\"class_name\": \"Zeros\", \"config\": {}}, \"kernel_regularizer\": null, \"bias_regularizer\": null, \"activity_regularizer\": null, \"kernel_constraint\": null, \"bias_constraint\": null}}, {\"class_name\": \"Dense\", \"config\": {\"name\": \"dense_1\", \"trainable\": true, \"dtype\": \"float32\", \"units\": 32, \"activation\": \"relu\", \"use_bias\": true, \"kernel_initializer\": {\"class_name\": \"GlorotUniform\", \"config\": {\"seed\": null}}, \"bias_initializer\": {\"class_name\": \"Zeros\", \"config\": {}}, \"kernel_regularizer\": null, \"bias_regularizer\": null, \"activity_regularizer\": null, \"kernel_constraint\": null, \"bias_constraint\": null}}, {\"class_name\": \"Dense\", \"config\": {\"name\": \"dense_2\", \"trainable\": true, \"dtype\": \"float32\", \"units\": 2, \"activation\": \"softmax\", \"use_bias\": true, \"kernel_initializer\": {\"class_name\": \"GlorotUniform\", \"config\": {\"seed\": null}}, \"bias_initializer\": {\"class_name\": \"Zeros\", \"config\": {}}, \"kernel_regularizer\": null, \"bias_regularizer\": null, \"activity_regularizer\": null, \"kernel_constraint\": null, \"bias_constraint\": null}}]}, \"keras_version\": \"2.2.4-tf\", \"backend\": \"tensorflow\"}'"
      ]
     },
     "execution_count": 73,
     "metadata": {},
     "output_type": "execute_result"
    }
   ],
   "source": [
    "json_string"
   ]
  },
  {
   "cell_type": "code",
   "execution_count": 74,
   "metadata": {},
   "outputs": [],
   "source": [
    "# model reconstruction from JSON:\n",
    "from tensorflow.keras.models import model_from_json\n",
    "model_architecture = model_from_json(json_string)\n",
    "\n",
    "# model reconstruction from YAML\n",
    "# from tensorflow.keras.models import model_from_yaml\n",
    "# model = model_from_yaml(yaml_string)"
   ]
  },
  {
   "cell_type": "code",
   "execution_count": 75,
   "metadata": {},
   "outputs": [
    {
     "name": "stdout",
     "output_type": "stream",
     "text": [
      "Model: \"sequential\"\n",
      "_________________________________________________________________\n",
      "Layer (type)                 Output Shape              Param #   \n",
      "=================================================================\n",
      "dense (Dense)                (None, 16)                182816    \n",
      "_________________________________________________________________\n",
      "dense_1 (Dense)              (None, 32)                544       \n",
      "_________________________________________________________________\n",
      "dense_2 (Dense)              (None, 2)                 66        \n",
      "=================================================================\n",
      "Total params: 183,426\n",
      "Trainable params: 183,426\n",
      "Non-trainable params: 0\n",
      "_________________________________________________________________\n"
     ]
    }
   ],
   "source": [
    "model_architecture.summary()"
   ]
  },
  {
   "cell_type": "markdown",
   "metadata": {},
   "source": [
    "## 3. model.save_weights()"
   ]
  },
  {
   "cell_type": "markdown",
   "metadata": {},
   "source": [
    "If you only need to save the weights of the model, you cab use the following function save the weights only."
   ]
  },
  {
   "cell_type": "code",
   "execution_count": 76,
   "metadata": {},
   "outputs": [],
   "source": [
    "model.save_weights('C:\\\\Users\\\\רועי\\\\models\\\\my_model_weights.h5')"
   ]
  },
  {
   "cell_type": "code",
   "execution_count": 77,
   "metadata": {},
   "outputs": [],
   "source": [
    "model2 = Sequential([\n",
    "    Dense(units=16, input_shape=(11425,), activation='relu'),\n",
    "    Dense(units=32, activation='relu'),\n",
    "    Dense(units=2, activation='softmax')\n",
    "])"
   ]
  },
  {
   "cell_type": "code",
   "execution_count": 78,
   "metadata": {},
   "outputs": [],
   "source": [
    "model2.load_weights('C:\\\\Users\\\\רועי\\\\models\\\\my_model_weights.h5')"
   ]
  },
  {
   "cell_type": "code",
   "execution_count": 79,
   "metadata": {},
   "outputs": [
    {
     "data": {
      "text/plain": [
       "[array([[ 3.2384202e-02,  2.9407142e-02, -2.0365588e-02, ...,\n",
       "          3.3417335e-04,  1.3976080e-02, -2.2236150e-02],\n",
       "        [ 1.9887974e-02, -2.0863466e-02,  2.1030428e-02, ...,\n",
       "         -6.2731281e-03, -6.3871797e-03,  2.0391116e-02],\n",
       "        [ 2.2287413e-02,  4.3631368e-03, -1.9075319e-02, ...,\n",
       "         -2.4780285e-02,  2.8591533e-03, -2.0999756e-02],\n",
       "        ...,\n",
       "        [ 2.9168790e-02,  1.2270964e-02, -2.6219038e-02, ...,\n",
       "          9.8984232e-03,  2.5960574e-02, -1.0464420e-02],\n",
       "        [-1.4106738e-02, -8.2333526e-03,  3.1875677e-02, ...,\n",
       "          3.2654267e-02,  7.8003877e-03,  1.1770803e-02],\n",
       "        [ 1.6459750e-02, -2.1147385e-02, -1.7638665e-02, ...,\n",
       "         -3.9149467e-03,  1.9448120e-03,  6.3665211e-06]], dtype=float32),\n",
       " array([ 0.03227106,  0.0408613 ,  0.15019794,  0.19712113,  0.03898662,\n",
       "        -0.01693016,  0.0227627 ,  0.1940998 ,  0.17075156,  0.16886537,\n",
       "         0.1526093 ,  0.04949359,  0.16121812,  0.2148628 ,  0.04848313,\n",
       "         0.2314656 ], dtype=float32),\n",
       " array([[ 1.34430245e-01,  1.85774148e-01, -3.51360589e-01,\n",
       "          1.25654578e-01, -4.08539236e-01, -4.53723431e-01,\n",
       "         -1.55719087e-01,  1.97270438e-01,  7.00077489e-02,\n",
       "         -1.72442526e-01, -4.37207878e-01, -3.58354926e-01,\n",
       "         -5.15039921e-01, -1.72175929e-01,  3.71601403e-01,\n",
       "         -2.96064287e-01,  2.96619348e-02,  5.08315802e-01,\n",
       "         -2.35324755e-01,  5.75085700e-01, -3.02486807e-01,\n",
       "         -3.58931959e-01, -7.30884224e-02, -3.13194931e-01,\n",
       "          5.12618423e-01,  4.58132058e-01, -8.09875652e-02,\n",
       "         -1.44495845e-01, -2.25029707e-01,  2.56640881e-01,\n",
       "          5.18302023e-01,  4.11629200e-01],\n",
       "        [ 1.32182404e-01,  6.21923387e-01, -4.61242199e-01,\n",
       "          2.43196219e-01, -4.03918654e-01, -2.80602992e-01,\n",
       "          2.39723921e-01,  6.74426913e-01, -3.20958048e-01,\n",
       "         -2.82467067e-01, -3.12264234e-01, -2.74843514e-01,\n",
       "         -4.79286760e-01, -2.27971822e-01,  5.80305576e-01,\n",
       "         -1.43658012e-01, -1.31845698e-01,  5.40187180e-01,\n",
       "         -2.17128962e-01,  5.98832369e-01, -8.95722285e-02,\n",
       "         -2.45339841e-01, -4.83602613e-01,  8.07290152e-02,\n",
       "          1.43138424e-01,  5.82511187e-01, -2.90074944e-01,\n",
       "         -2.35973522e-01, -4.20406401e-01,  4.37805504e-01,\n",
       "          4.50212270e-01,  5.44300258e-01],\n",
       "        [-1.72958598e-01, -5.47706544e-01,  5.38786650e-01,\n",
       "         -4.62422669e-01,  5.69011271e-01,  1.17179900e-01,\n",
       "          1.81152578e-02, -3.23886067e-01,  6.38319587e-04,\n",
       "         -2.40650713e-01,  2.59018868e-01,  1.39450446e-01,\n",
       "          4.30452526e-01,  5.20309269e-01, -4.02075857e-01,\n",
       "          7.28377879e-01, -1.54496029e-01,  3.41078229e-02,\n",
       "          3.25231612e-01, -4.28284645e-01,  5.13282120e-01,\n",
       "          2.73201436e-01,  7.38846600e-01,  3.45689133e-02,\n",
       "         -4.67346221e-01, -2.72810042e-01,  5.17746985e-01,\n",
       "         -1.51038766e-01,  1.66134611e-01, -1.64643377e-01,\n",
       "         -4.98313218e-01, -1.06932186e-01],\n",
       "        [-2.71312982e-01, -1.03468508e-01,  1.53394610e-01,\n",
       "          1.55397937e-01,  5.71916819e-01,  2.21739322e-01,\n",
       "         -1.76809847e-01,  7.10607618e-02,  4.84761447e-02,\n",
       "         -3.42774302e-01,  6.68471217e-01,  6.54225767e-01,\n",
       "          7.48584390e-01,  5.80761373e-01, -1.63342506e-01,\n",
       "          2.72052854e-01,  2.45703444e-01, -1.76366985e-01,\n",
       "          4.25492585e-01,  5.37837483e-02,  1.17979832e-01,\n",
       "          5.55129170e-01,  2.01687634e-01,  6.87438920e-02,\n",
       "          1.53477713e-01, -3.48031878e-01,  3.19674551e-01,\n",
       "         -1.54726207e-01,  6.88940585e-01,  2.12954268e-01,\n",
       "         -1.27045706e-01, -1.70151256e-02],\n",
       "        [ 5.71283162e-01,  1.96171358e-01, -1.57405466e-01,\n",
       "          1.52200982e-01, -7.34743774e-02, -3.15708786e-01,\n",
       "          7.67235830e-02,  1.51723877e-01, -3.12495142e-01,\n",
       "         -4.94789099e-03, -3.91386002e-01, -1.74690247e-01,\n",
       "         -1.01825017e-02, -1.08685739e-01,  1.86463550e-01,\n",
       "          3.03245597e-02, -1.46409318e-01,  2.57548720e-01,\n",
       "         -2.15920895e-01,  1.95258334e-01, -2.01904431e-01,\n",
       "         -2.46043190e-01, -1.18747070e-01, -2.74557695e-02,\n",
       "          6.74363613e-01,  6.76182926e-01, -1.62326694e-01,\n",
       "          5.23501970e-02, -3.13541204e-01,  1.35437280e-01,\n",
       "          4.36109692e-01,  7.16213822e-01],\n",
       "        [-6.86572641e-02,  1.32453457e-01, -3.67522895e-01,\n",
       "          1.46046057e-01,  1.41035959e-01, -4.49043810e-02,\n",
       "         -4.00604866e-02,  4.65016901e-01,  1.37747172e-02,\n",
       "         -2.04959124e-01,  4.89300340e-02, -1.48040771e-01,\n",
       "         -3.45457852e-01, -3.98677260e-01,  4.85081784e-02,\n",
       "          1.73504248e-01, -6.46706074e-02,  2.75896668e-01,\n",
       "          2.75902897e-02,  1.60129324e-01, -3.59792948e-01,\n",
       "         -2.60730207e-01, -2.59399474e-01, -8.00887719e-02,\n",
       "          2.73883611e-01,  3.98734242e-01, -2.63975978e-01,\n",
       "         -8.22627842e-02, -3.49059284e-01, -5.61964437e-02,\n",
       "          1.86977029e-01,  5.96674159e-02],\n",
       "        [ 2.67932624e-01,  3.05268377e-01, -3.57217222e-01,\n",
       "          3.07231456e-01, -2.24463612e-01, -5.14571369e-01,\n",
       "          2.48840407e-01,  3.91935199e-01, -1.69506192e-01,\n",
       "          2.48258542e-02, -5.43736041e-01, -4.82540756e-01,\n",
       "         -3.46549720e-01, -1.89635351e-01,  6.84952915e-01,\n",
       "         -4.37744617e-01, -2.28445455e-01,  5.62113583e-01,\n",
       "         -3.01194936e-01,  2.28468165e-01,  6.27590418e-02,\n",
       "         -4.64635521e-01, -3.68073463e-01, -1.44642398e-01,\n",
       "          4.99401838e-01,  2.76389658e-01, -4.16385978e-01,\n",
       "          6.76389262e-02, -1.92400113e-01,  4.22103524e-01,\n",
       "          4.50718403e-03,  7.19972104e-02],\n",
       "        [-1.28177762e-01,  6.38588667e-02,  5.59253871e-01,\n",
       "         -3.83368731e-01,  2.80455738e-01,  8.22811797e-02,\n",
       "          2.43414819e-01, -6.43180758e-02, -1.31020725e-01,\n",
       "         -1.65220365e-01,  5.17632365e-01,  4.05945361e-01,\n",
       "          7.33747706e-02,  4.26113576e-01,  7.42933676e-02,\n",
       "          3.73060495e-01, -3.77833005e-03,  6.31637573e-02,\n",
       "          6.44896999e-02, -1.03300914e-01,  5.90997100e-01,\n",
       "          6.15851581e-01,  4.25921947e-01, -2.45916337e-01,\n",
       "         -1.45222917e-01, -2.71173716e-01,  4.10548627e-01,\n",
       "         -3.46562862e-02,  6.20524943e-01, -4.08738494e-01,\n",
       "         -3.63381118e-01, -1.02593988e-01],\n",
       "        [-1.81235656e-01, -2.54262567e-01,  4.04304713e-01,\n",
       "         -3.70392293e-01,  8.72334093e-02,  7.26792812e-01,\n",
       "         -2.52763867e-01, -1.53819293e-01, -2.05041558e-01,\n",
       "         -2.49340758e-01,  2.60765046e-01,  5.30012727e-01,\n",
       "          6.75406516e-01,  4.37949538e-01, -1.16190992e-01,\n",
       "          2.79646844e-01, -9.88109708e-02, -1.42408356e-01,\n",
       "          2.52179593e-01, -3.62639248e-01,  3.03234637e-01,\n",
       "          6.14661217e-01,  3.48372817e-01, -1.15596637e-01,\n",
       "         -2.20714480e-01, -1.19042797e-02,  9.02276486e-02,\n",
       "         -2.35679537e-01,  3.97662699e-01,  1.88350171e-01,\n",
       "         -4.28151637e-01, -3.35050613e-01],\n",
       "        [ 1.35462999e-01, -2.63302416e-01,  3.65861714e-01,\n",
       "          1.60093412e-01,  8.43455195e-02,  4.12525147e-01,\n",
       "         -2.38302484e-01, -7.50464126e-02, -3.15899700e-01,\n",
       "          5.20866849e-02,  1.82183996e-01,  6.63964629e-01,\n",
       "          3.35411996e-01,  5.95895410e-01, -3.10193691e-02,\n",
       "          6.23638093e-01, -2.03894019e-01, -2.99569041e-01,\n",
       "          4.48171914e-01, -3.53864849e-01,  4.45183843e-01,\n",
       "          6.31684959e-01,  4.73162472e-01,  2.61123031e-01,\n",
       "         -4.09155309e-01, -1.39549822e-01,  2.06781030e-01,\n",
       "         -7.90693425e-03,  4.01059687e-01, -2.74628431e-01,\n",
       "          7.61348978e-02, -1.16489403e-01],\n",
       "        [ 1.93116412e-01, -1.49246931e-01,  5.90213478e-01,\n",
       "          8.92191827e-02,  6.60204768e-01,  7.07983732e-01,\n",
       "          1.97961584e-01,  1.47306338e-01, -2.62620360e-01,\n",
       "         -2.83367366e-01,  5.96078753e-01,  4.48952615e-01,\n",
       "          2.56420940e-01,  1.21264726e-01, -3.65445405e-01,\n",
       "          4.67209399e-01,  3.26055527e-01, -3.34693104e-01,\n",
       "          2.78099060e-01, -3.12340796e-01,  3.49092484e-01,\n",
       "          1.25149041e-01,  3.27611804e-01,  7.28606153e-03,\n",
       "         -7.12859153e-04, -2.11125448e-01,  2.00317740e-01,\n",
       "          3.03553283e-01,  6.88687563e-01, -2.90994849e-02,\n",
       "          2.07958817e-01,  1.32570192e-01],\n",
       "        [ 6.35432899e-01,  3.88105661e-01, -3.74261886e-02,\n",
       "          4.72540647e-01, -2.15115309e-01,  9.35818031e-02,\n",
       "         -3.23576301e-01,  5.53681016e-01, -1.21619701e-01,\n",
       "         -2.33100623e-01,  7.66127631e-02, -3.10581774e-01,\n",
       "         -1.14204064e-01, -3.12350094e-01,  4.95684654e-01,\n",
       "         -4.08900112e-01,  1.30660310e-01,  4.07599986e-01,\n",
       "         -6.43708259e-02,  4.82682198e-01, -2.57732600e-01,\n",
       "         -3.46451670e-01, -2.09401548e-01, -1.21251963e-01,\n",
       "          9.87369791e-02,  6.46285295e-01, -3.41446280e-01,\n",
       "         -2.86049038e-01, -2.62094021e-01,  5.59592545e-01,\n",
       "          5.39170384e-01,  1.61410764e-01],\n",
       "        [-3.70511889e-01, -1.71323448e-01,  6.64282858e-01,\n",
       "          9.54118669e-02,  4.28252220e-01,  5.53305149e-01,\n",
       "          1.81586936e-01, -3.18383604e-01, -1.97227389e-01,\n",
       "          9.61304978e-02,  2.98687488e-01,  4.82295334e-01,\n",
       "          6.83220148e-01,  6.77953482e-01,  2.77368128e-02,\n",
       "          2.84703285e-01, -1.28424183e-01, -4.19544905e-01,\n",
       "          5.55351853e-01, -3.05249542e-01,  5.86669624e-01,\n",
       "          3.63218755e-01,  5.82063198e-01,  1.79678023e-01,\n",
       "         -1.91704240e-02, -1.56555161e-01,  5.65910578e-01,\n",
       "         -2.09406942e-01,  1.06909476e-01, -5.60855031e-01,\n",
       "         -4.97984588e-01, -5.15137076e-01],\n",
       "        [ 2.10637562e-02,  8.98073539e-02,  3.69716436e-01,\n",
       "         -8.37506577e-02,  3.13948959e-01,  3.19276035e-01,\n",
       "          3.04609984e-01, -2.50016063e-01, -1.03771083e-01,\n",
       "         -1.89309686e-01,  3.07861626e-01,  3.52373779e-01,\n",
       "          7.28317142e-01,  2.64613628e-01, -7.92885721e-02,\n",
       "          2.35160619e-01, -1.34267986e-01, -9.50810779e-03,\n",
       "          6.93898201e-01,  5.74675314e-02,  1.02097429e-01,\n",
       "          6.75999999e-01,  4.96988535e-01, -1.11894980e-01,\n",
       "         -2.66161531e-01,  6.48165867e-02,  6.61527693e-01,\n",
       "         -3.04037750e-01,  3.00757706e-01, -3.99621427e-01,\n",
       "          9.25812684e-03, -2.53307428e-02],\n",
       "        [ 2.64245152e-01,  5.98904490e-01, -1.92971841e-01,\n",
       "          5.00828028e-01, -5.44059202e-02,  3.20715718e-02,\n",
       "         -3.50975364e-01,  2.24636599e-01, -2.71022022e-01,\n",
       "          1.49540544e-01,  8.70221257e-02, -1.75978616e-01,\n",
       "         -3.38370167e-02, -4.47704643e-01,  2.04347610e-01,\n",
       "         -1.89925462e-01, -2.21712187e-01,  5.24470150e-01,\n",
       "         -7.56665394e-02,  2.61142910e-01, -4.64591324e-01,\n",
       "         -4.68820222e-02, -2.41872936e-01, -2.66343176e-01,\n",
       "          2.75061190e-01,  4.57042843e-01, -1.95324063e-01,\n",
       "          1.74477279e-01, -1.84149429e-01,  4.35112655e-01,\n",
       "          5.96451044e-01,  1.98510841e-01],\n",
       "        [-2.55780816e-01,  2.38405332e-01,  2.87031949e-01,\n",
       "         -8.38807970e-02,  1.92590818e-01,  6.74777448e-01,\n",
       "         -3.56693119e-01, -2.04255953e-01, -3.32069337e-01,\n",
       "         -2.96851367e-01,  5.43962479e-01,  6.71863854e-01,\n",
       "          3.35504174e-01,  3.95690233e-01, -2.32461348e-01,\n",
       "          2.85086513e-01, -2.93706834e-01,  1.94872096e-01,\n",
       "          2.30772421e-01,  1.70464635e-01,  4.86640245e-01,\n",
       "          4.16003138e-01,  1.36972949e-01, -8.01923499e-02,\n",
       "          2.46669576e-01,  1.29151568e-02,  5.14342666e-01,\n",
       "          1.12698905e-01,  1.18295878e-01,  2.72565991e-01,\n",
       "          3.13759893e-01, -9.23450068e-02]], dtype=float32),\n",
       " array([ 0.17430069,  0.12891279,  0.08964977,  0.12222531,  0.07416514,\n",
       "         0.03618122,  0.01404129,  0.18829985, -0.0109648 , -0.00092706,\n",
       "         0.03756697,  0.05264245,  0.07496126,  0.08023458,  0.20478028,\n",
       "         0.06841596,  0.09030873,  0.13679482,  0.02647072,  0.22972625,\n",
       "         0.05468752,  0.05621414,  0.11222357, -0.03618961,  0.15883976,\n",
       "         0.19762236,  0.06886841, -0.00056417,  0.10218385,  0.16163568,\n",
       "         0.17510158,  0.18245716], dtype=float32),\n",
       " array([[-0.6519383 ,  0.19024283],\n",
       "        [-0.6965694 ,  0.75780046],\n",
       "        [ 0.18739943, -0.53837246],\n",
       "        [-0.55020654,  0.3067552 ],\n",
       "        [ 0.61880153, -0.4426374 ],\n",
       "        [ 0.08082111, -0.64068466],\n",
       "        [-0.16931285,  0.01800288],\n",
       "        [-0.2088266 ,  0.7828364 ],\n",
       "        [ 0.379889  ,  0.34569296],\n",
       "        [ 0.18230344, -0.20971099],\n",
       "        [ 0.09605778, -0.669197  ],\n",
       "        [ 0.43372372, -0.59202176],\n",
       "        [ 0.5250918 , -0.03860303],\n",
       "        [ 0.33112383, -0.23215361],\n",
       "        [-0.2402156 ,  0.65698165],\n",
       "        [ 0.5926425 , -0.1638238 ],\n",
       "        [-0.33798435, -0.13850573],\n",
       "        [-0.73794657,  0.37815896],\n",
       "        [ 0.44981626, -0.5051297 ],\n",
       "        [-0.52500844,  0.52398103],\n",
       "        [ 0.5237474 , -0.50633746],\n",
       "        [ 0.6944505 , -0.3991193 ],\n",
       "        [ 0.42304417, -0.18953526],\n",
       "        [-0.2874867 , -0.14759742],\n",
       "        [-0.7024212 ,  0.4269737 ],\n",
       "        [-0.5906426 ,  0.54884464],\n",
       "        [ 0.69778854, -0.11180797],\n",
       "        [ 0.38395452,  0.3721134 ],\n",
       "        [ 0.16686797, -0.60526735],\n",
       "        [-0.73624754,  0.25811222],\n",
       "        [-0.6661558 ,  0.26533914],\n",
       "        [-0.51468366,  0.27489606]], dtype=float32),\n",
       " array([-0.00500724,  0.00500629], dtype=float32)]"
      ]
     },
     "execution_count": 79,
     "metadata": {},
     "output_type": "execute_result"
    }
   ],
   "source": [
    "model2.get_weights()"
   ]
  }
 ],
 "metadata": {
  "kernelspec": {
   "display_name": "Python 3",
   "language": "python",
   "name": "python3"
  },
  "language_info": {
   "codemirror_mode": {
    "name": "ipython",
    "version": 3
   },
   "file_extension": ".py",
   "mimetype": "text/x-python",
   "name": "python",
   "nbconvert_exporter": "python",
   "pygments_lexer": "ipython3",
   "version": "3.7.4"
  }
 },
 "nbformat": 4,
 "nbformat_minor": 4
}
